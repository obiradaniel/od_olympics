{
 "cells": [
  {
   "cell_type": "markdown",
   "id": "a7f2bd7e",
   "metadata": {},
   "source": [
    "# Olympics Analysis 1896 to 2016, A deep Dive"
   ]
  },
  {
   "cell_type": "markdown",
   "id": "26ce2a3a",
   "metadata": {},
   "source": [
    "### By Obira Daniel,\n",
    "\n",
    "### Data from SportsStats\n",
    "#### Learn SQL Basics for Data Science Specialization Capstone, Cousera, UC Davis"
   ]
  },
  {
   "cell_type": "markdown",
   "id": "153a911b",
   "metadata": {},
   "source": [
    "# 1.0 Data Description, Importing and Checking the Data"
   ]
  },
  {
   "cell_type": "markdown",
   "id": "affabe69",
   "metadata": {},
   "source": [
    " ***I created a parquet file from the csv file, reduced the file from ~40MB to ~5.6MB, it downloads and loads faster using pyarrow***<br>\n",
    " \n",
    " *Data is read from the web and loaded in to a sqlite database then all analysis stems from SQL queries*<br>\n",
    " ***sqlite3***, ***ipython-sql*** *and* ***pyarrow*** *are required for SQL and parquet interfacing accordingly*"
   ]
  },
  {
   "cell_type": "markdown",
   "id": "889680f4",
   "metadata": {},
   "source": [
    "## 1.1 Data Description\n",
    "***\n",
    "The file athlete_events.csv or olympics.parquet, contains 271,116 rows and 15 columns.<br>\n",
    "Each row/record corresponds to an individual athlete competing in an individual Olympic event (athlete-events).<br>\n",
    "The columns are the following:\n",
    "***\n",
    "*ID - Unique ID for each individual athlete e.g 55881 for Michael Jordan, 13029 for Usain Bolt;<br>*\n",
    "*Name - Athlete's Full name;<br>*\n",
    "Sex - M or F;<br>\n",
    "Age - 64 bit Float of Age in Years;<br>\n",
    "Height - 64 bit Float of height In centimeters;<br>\n",
    "Weight - 64 bit Float of Mass In kilograms;<br>\n",
    "Team - Team name;<br>\n",
    "NOC - National Olympic Committee 3-letter code;<br>\n",
    "Games - Year and season;<br>\n",
    "Year - Integer of Year of Event;<br>\n",
    "Season - Summer or Winter;<br>\n",
    "City - Host city;<br>\n",
    "Sport - Sport;<br>\n",
    "Event - Event;<br>\n",
    "Medal - Gold, Silver, Bronze, or NA.<br>"
   ]
  },
  {
   "cell_type": "markdown",
   "id": "7b009921",
   "metadata": {},
   "source": [
    "### 1.2 Data Import, Quick Exploration and Quality Checks"
   ]
  },
  {
   "cell_type": "markdown",
   "id": "e38fcd75",
   "metadata": {},
   "source": [
    "#### 1.21 Data Import/Loading"
   ]
  },
  {
   "cell_type": "code",
   "execution_count": 71,
   "id": "e90c4274",
   "metadata": {
    "scrolled": false
   },
   "outputs": [
    {
     "data": {
      "text/html": [
       "<div>\n",
       "<style scoped>\n",
       "    .dataframe tbody tr th:only-of-type {\n",
       "        vertical-align: middle;\n",
       "    }\n",
       "\n",
       "    .dataframe tbody tr th {\n",
       "        vertical-align: top;\n",
       "    }\n",
       "\n",
       "    .dataframe thead th {\n",
       "        text-align: right;\n",
       "    }\n",
       "</style>\n",
       "<table border=\"1\" class=\"dataframe\">\n",
       "  <thead>\n",
       "    <tr style=\"text-align: right;\">\n",
       "      <th></th>\n",
       "      <th>ID</th>\n",
       "      <th>Name</th>\n",
       "      <th>Sex</th>\n",
       "      <th>Age</th>\n",
       "      <th>Height</th>\n",
       "      <th>Weight</th>\n",
       "      <th>Team</th>\n",
       "      <th>NOC</th>\n",
       "      <th>Games</th>\n",
       "      <th>Year</th>\n",
       "      <th>Season</th>\n",
       "      <th>City</th>\n",
       "      <th>Sport</th>\n",
       "      <th>Event</th>\n",
       "      <th>Medal</th>\n",
       "    </tr>\n",
       "  </thead>\n",
       "  <tbody>\n",
       "    <tr>\n",
       "      <th>0</th>\n",
       "      <td>1</td>\n",
       "      <td>A Dijiang</td>\n",
       "      <td>M</td>\n",
       "      <td>24.0</td>\n",
       "      <td>180.0</td>\n",
       "      <td>80.0</td>\n",
       "      <td>China</td>\n",
       "      <td>CHN</td>\n",
       "      <td>1992 Summer</td>\n",
       "      <td>1992</td>\n",
       "      <td>Summer</td>\n",
       "      <td>Barcelona</td>\n",
       "      <td>Basketball</td>\n",
       "      <td>Basketball Men's Basketball</td>\n",
       "      <td>None</td>\n",
       "    </tr>\n",
       "    <tr>\n",
       "      <th>1</th>\n",
       "      <td>2</td>\n",
       "      <td>A Lamusi</td>\n",
       "      <td>M</td>\n",
       "      <td>23.0</td>\n",
       "      <td>170.0</td>\n",
       "      <td>60.0</td>\n",
       "      <td>China</td>\n",
       "      <td>CHN</td>\n",
       "      <td>2012 Summer</td>\n",
       "      <td>2012</td>\n",
       "      <td>Summer</td>\n",
       "      <td>London</td>\n",
       "      <td>Judo</td>\n",
       "      <td>Judo Men's Extra-Lightweight</td>\n",
       "      <td>None</td>\n",
       "    </tr>\n",
       "    <tr>\n",
       "      <th>2</th>\n",
       "      <td>3</td>\n",
       "      <td>Gunnar Nielsen Aaby</td>\n",
       "      <td>M</td>\n",
       "      <td>24.0</td>\n",
       "      <td>NaN</td>\n",
       "      <td>NaN</td>\n",
       "      <td>Denmark</td>\n",
       "      <td>DEN</td>\n",
       "      <td>1920 Summer</td>\n",
       "      <td>1920</td>\n",
       "      <td>Summer</td>\n",
       "      <td>Antwerpen</td>\n",
       "      <td>Football</td>\n",
       "      <td>Football Men's Football</td>\n",
       "      <td>None</td>\n",
       "    </tr>\n",
       "    <tr>\n",
       "      <th>3</th>\n",
       "      <td>4</td>\n",
       "      <td>Edgar Lindenau Aabye</td>\n",
       "      <td>M</td>\n",
       "      <td>34.0</td>\n",
       "      <td>NaN</td>\n",
       "      <td>NaN</td>\n",
       "      <td>Denmark/Sweden</td>\n",
       "      <td>DEN</td>\n",
       "      <td>1900 Summer</td>\n",
       "      <td>1900</td>\n",
       "      <td>Summer</td>\n",
       "      <td>Paris</td>\n",
       "      <td>Tug-Of-War</td>\n",
       "      <td>Tug-Of-War Men's Tug-Of-War</td>\n",
       "      <td>Gold</td>\n",
       "    </tr>\n",
       "    <tr>\n",
       "      <th>4</th>\n",
       "      <td>5</td>\n",
       "      <td>Christine Jacoba Aaftink</td>\n",
       "      <td>F</td>\n",
       "      <td>21.0</td>\n",
       "      <td>185.0</td>\n",
       "      <td>82.0</td>\n",
       "      <td>Netherlands</td>\n",
       "      <td>NED</td>\n",
       "      <td>1988 Winter</td>\n",
       "      <td>1988</td>\n",
       "      <td>Winter</td>\n",
       "      <td>Calgary</td>\n",
       "      <td>Speed Skating</td>\n",
       "      <td>Speed Skating Women's 500 metres</td>\n",
       "      <td>None</td>\n",
       "    </tr>\n",
       "  </tbody>\n",
       "</table>\n",
       "</div>"
      ],
      "text/plain": [
       "   ID                      Name Sex   Age  Height  Weight            Team  \\\n",
       "0   1                 A Dijiang   M  24.0   180.0    80.0           China   \n",
       "1   2                  A Lamusi   M  23.0   170.0    60.0           China   \n",
       "2   3       Gunnar Nielsen Aaby   M  24.0     NaN     NaN         Denmark   \n",
       "3   4      Edgar Lindenau Aabye   M  34.0     NaN     NaN  Denmark/Sweden   \n",
       "4   5  Christine Jacoba Aaftink   F  21.0   185.0    82.0     Netherlands   \n",
       "\n",
       "   NOC        Games  Year  Season       City          Sport  \\\n",
       "0  CHN  1992 Summer  1992  Summer  Barcelona     Basketball   \n",
       "1  CHN  2012 Summer  2012  Summer     London           Judo   \n",
       "2  DEN  1920 Summer  1920  Summer  Antwerpen       Football   \n",
       "3  DEN  1900 Summer  1900  Summer      Paris     Tug-Of-War   \n",
       "4  NED  1988 Winter  1988  Winter    Calgary  Speed Skating   \n",
       "\n",
       "                              Event Medal  \n",
       "0       Basketball Men's Basketball  None  \n",
       "1      Judo Men's Extra-Lightweight  None  \n",
       "2           Football Men's Football  None  \n",
       "3       Tug-Of-War Men's Tug-Of-War  Gold  \n",
       "4  Speed Skating Women's 500 metres  None  "
      ]
     },
     "execution_count": 71,
     "metadata": {},
     "output_type": "execute_result"
    }
   ],
   "source": [
    "import os, datetime\n",
    "import pandas as pd\n",
    "import matplotlib.pyplot as plt\n",
    "import matplotlib as mpl\n",
    "import matplotlib.ticker as mticker\n",
    "import numpy as np\n",
    "import seaborn as sns\n",
    "import pyarrow\n",
    "import sqlite3\n",
    "\n",
    "startTime = datetime.datetime.now()\n",
    "#file='athlete_events.csv'\n",
    "#Printing Styling\n",
    "class style():\n",
    "    BLACK = '\\033[30m'\n",
    "    RED = '\\033[31m'\n",
    "    GREEN = '\\033[32m'\n",
    "    YELLOW = '\\033[33m'\n",
    "    BLUE = '\\033[34m'\n",
    "    MAGENTA = '\\033[35m'\n",
    "    CYAN = '\\033[36m'\n",
    "    WHITE = '\\033[37m'\n",
    "    UNDERLINE = '\\033[4m'\n",
    "    RESET = '\\033[0m'\n",
    "    BOLD = '\\033[1m'\n",
    "\n",
    "#csvfile='https://raw.githubusercontent.com/obiradaniel/od_olympics/main/athlete_events.csv'\n",
    "\n",
    "parquetfile='https://raw.githubusercontent.com/obiradaniel/od_olympics/main/olympics.parquet'\n",
    "\n",
    "worldcountries = 'https://raw.githubusercontent.com/obiradaniel/od_olympics/main/world_countries.csv'\n",
    "\n",
    "nocfile = \"https://raw.githubusercontent.com/obiradaniel/od_olympics/main/noc_regions.csv\"\n",
    "\n",
    "olympics = pd.read_parquet(parquetfile, engine=\"pyarrow\")\n",
    "noc = pd.read_csv(nocfile)\n",
    "countries = pd.read_csv(worldcountries)\n",
    "\n",
    "olympics.head()"
   ]
  },
  {
   "cell_type": "markdown",
   "id": "bc2de900",
   "metadata": {},
   "source": [
    "***Checking NOC Data and adding missing NOCS***"
   ]
  },
  {
   "cell_type": "code",
   "execution_count": 72,
   "id": "b3d4aa3c",
   "metadata": {},
   "outputs": [],
   "source": [
    "#noc_add = pd.DataFrame([['SGP', 'Singapore', None], ['ROT', 'Refugee Olympic Team', None], ['TUV', 'Tuvalu', None], ['UNK', 'Unknown', None], ['EOR', 'Refugee Olympic Team', None]], columns=['NOC', 'region', 'notes'])\n",
    "#noc_add = pd.DataFrame([['SGP', 'Singapore', None], ['EOR', 'Refugee Olympic Team', None]], columns=['NOC', 'region', 'notes'])"
   ]
  },
  {
   "cell_type": "code",
   "execution_count": 73,
   "id": "08e0181d",
   "metadata": {},
   "outputs": [],
   "source": [
    "#noc=noc.append(noc_add, ignore_index=True)\n",
    "#noc= pd.concat([noc, noc_add])"
   ]
  },
  {
   "cell_type": "code",
   "execution_count": 74,
   "id": "85e8953c",
   "metadata": {},
   "outputs": [
    {
     "data": {
      "text/html": [
       "<div>\n",
       "<style scoped>\n",
       "    .dataframe tbody tr th:only-of-type {\n",
       "        vertical-align: middle;\n",
       "    }\n",
       "\n",
       "    .dataframe tbody tr th {\n",
       "        vertical-align: top;\n",
       "    }\n",
       "\n",
       "    .dataframe thead th {\n",
       "        text-align: right;\n",
       "    }\n",
       "</style>\n",
       "<table border=\"1\" class=\"dataframe\">\n",
       "  <thead>\n",
       "    <tr style=\"text-align: right;\">\n",
       "      <th></th>\n",
       "      <th>NOC</th>\n",
       "      <th>region</th>\n",
       "      <th>notes</th>\n",
       "    </tr>\n",
       "  </thead>\n",
       "  <tbody>\n",
       "    <tr>\n",
       "      <th>0</th>\n",
       "      <td>SGP</td>\n",
       "      <td>Singapore</td>\n",
       "      <td>None</td>\n",
       "    </tr>\n",
       "    <tr>\n",
       "      <th>1</th>\n",
       "      <td>ROT</td>\n",
       "      <td>Refugee Olympic Team</td>\n",
       "      <td>None</td>\n",
       "    </tr>\n",
       "    <tr>\n",
       "      <th>2</th>\n",
       "      <td>TUV</td>\n",
       "      <td>Tuvalu</td>\n",
       "      <td>None</td>\n",
       "    </tr>\n",
       "    <tr>\n",
       "      <th>3</th>\n",
       "      <td>UNK</td>\n",
       "      <td>Unknown</td>\n",
       "      <td>None</td>\n",
       "    </tr>\n",
       "    <tr>\n",
       "      <th>4</th>\n",
       "      <td>EOR</td>\n",
       "      <td>Refugee Olympic Team</td>\n",
       "      <td>None</td>\n",
       "    </tr>\n",
       "  </tbody>\n",
       "</table>\n",
       "</div>"
      ],
      "text/plain": [
       "   NOC                region notes\n",
       "0  SGP             Singapore  None\n",
       "1  ROT  Refugee Olympic Team  None\n",
       "2  TUV                Tuvalu  None\n",
       "3  UNK               Unknown  None\n",
       "4  EOR  Refugee Olympic Team  None"
      ]
     },
     "execution_count": 74,
     "metadata": {},
     "output_type": "execute_result"
    }
   ],
   "source": [
    "#noc.tail()"
   ]
  },
  {
   "cell_type": "code",
   "execution_count": 75,
   "id": "ea9e0a29",
   "metadata": {},
   "outputs": [
    {
     "data": {
      "text/html": [
       "<div>\n",
       "<style scoped>\n",
       "    .dataframe tbody tr th:only-of-type {\n",
       "        vertical-align: middle;\n",
       "    }\n",
       "\n",
       "    .dataframe tbody tr th {\n",
       "        vertical-align: top;\n",
       "    }\n",
       "\n",
       "    .dataframe thead th {\n",
       "        text-align: right;\n",
       "    }\n",
       "</style>\n",
       "<table border=\"1\" class=\"dataframe\">\n",
       "  <thead>\n",
       "    <tr style=\"text-align: right;\">\n",
       "      <th></th>\n",
       "      <th>NOC</th>\n",
       "      <th>region</th>\n",
       "      <th>notes</th>\n",
       "    </tr>\n",
       "  </thead>\n",
       "  <tbody>\n",
       "    <tr>\n",
       "      <th>count</th>\n",
       "      <td>235</td>\n",
       "      <td>232</td>\n",
       "      <td>21</td>\n",
       "    </tr>\n",
       "    <tr>\n",
       "      <th>unique</th>\n",
       "      <td>232</td>\n",
       "      <td>209</td>\n",
       "      <td>21</td>\n",
       "    </tr>\n",
       "    <tr>\n",
       "      <th>top</th>\n",
       "      <td>ROT</td>\n",
       "      <td>Germany</td>\n",
       "      <td>Netherlands Antilles</td>\n",
       "    </tr>\n",
       "    <tr>\n",
       "      <th>freq</th>\n",
       "      <td>2</td>\n",
       "      <td>4</td>\n",
       "      <td>1</td>\n",
       "    </tr>\n",
       "  </tbody>\n",
       "</table>\n",
       "</div>"
      ],
      "text/plain": [
       "        NOC   region                 notes\n",
       "count   235      232                    21\n",
       "unique  232      209                    21\n",
       "top     ROT  Germany  Netherlands Antilles\n",
       "freq      2        4                     1"
      ]
     },
     "execution_count": 75,
     "metadata": {},
     "output_type": "execute_result"
    }
   ],
   "source": [
    "noc.describe(include='all')"
   ]
  },
  {
   "cell_type": "markdown",
   "id": "bafa3f07",
   "metadata": {},
   "source": [
    "*They are 230 Unique NOCS and 206 uniqure reions or countries,<br>\n",
    "this data will be joined to the main olympic dataset after some basic cleaning*"
   ]
  },
  {
   "cell_type": "markdown",
   "id": "77064310",
   "metadata": {},
   "source": [
    "***Olympic Data Schema***"
   ]
  },
  {
   "attachments": {
    "Olympic_schema-2.png": {
     "image/png": "[encoded data removed]"
    }
   },
   "cell_type": "markdown",
   "id": "9421ce76",
   "metadata": {},
   "source": [
    "![Olympic_schema-2.png](attachment:Olympic_schema-2.png)"
   ]
  },
  {
   "cell_type": "markdown",
   "id": "f16b20f5",
   "metadata": {},
   "source": [
    "## 1.3 Checking the data for consistency and errors"
   ]
  },
  {
   "cell_type": "code",
   "execution_count": 76,
   "id": "ee4fd484",
   "metadata": {},
   "outputs": [
    {
     "name": "stdout",
     "output_type": "stream",
     "text": [
      "\n",
      "The data has 271116 records and  15 columns.\n",
      "\n",
      "Data Information Summary\n",
      "<class 'pandas.core.frame.DataFrame'>\n",
      "RangeIndex: 271116 entries, 0 to 271115\n",
      "Data columns (total 15 columns):\n",
      " #   Column  Non-Null Count   Dtype  \n",
      "---  ------  --------------   -----  \n",
      " 0   ID      271116 non-null  int64  \n",
      " 1   Name    271116 non-null  object \n",
      " 2   Sex     271116 non-null  object \n",
      " 3   Age     261642 non-null  float64\n",
      " 4   Height  210945 non-null  float64\n",
      " 5   Weight  208241 non-null  float64\n",
      " 6   Team    271116 non-null  object \n",
      " 7   NOC     271116 non-null  object \n",
      " 8   Games   271116 non-null  object \n",
      " 9   Year    271116 non-null  int64  \n",
      " 10  Season  271116 non-null  object \n",
      " 11  City    271116 non-null  object \n",
      " 12  Sport   271116 non-null  object \n",
      " 13  Event   271116 non-null  object \n",
      " 14  Medal   39783 non-null   object \n",
      "dtypes: float64(3), int64(2), object(10)\n",
      "memory usage: 31.0+ MB\n",
      "None\n"
     ]
    }
   ],
   "source": [
    "records = olympics.shape[0]\n",
    "columns = olympics.shape[1]\n",
    "\n",
    "print(\"\\nThe data has\", records, \"records and \", columns, \"columns.\\n\")\n",
    "print(\"Data Information Summary\")\n",
    "print(olympics.info())"
   ]
  },
  {
   "cell_type": "code",
   "execution_count": 77,
   "id": "2e9b49b8",
   "metadata": {},
   "outputs": [
    {
     "name": "stdout",
     "output_type": "stream",
     "text": [
      "Null Value Summary\n"
     ]
    },
    {
     "data": {
      "text/plain": [
       "ID             0\n",
       "Name           0\n",
       "Sex            0\n",
       "Age         9474\n",
       "Height     60171\n",
       "Weight     62875\n",
       "Team           0\n",
       "NOC            0\n",
       "Games          0\n",
       "Year           0\n",
       "Season         0\n",
       "City           0\n",
       "Sport          0\n",
       "Event          0\n",
       "Medal     231333\n",
       "dtype: int64"
      ]
     },
     "execution_count": 77,
     "metadata": {},
     "output_type": "execute_result"
    }
   ],
   "source": [
    "print(\"Null Value Summary\")\n",
    "olympics.isnull().sum(axis = 0)"
   ]
  },
  {
   "cell_type": "code",
   "execution_count": 78,
   "id": "4aaebf9e",
   "metadata": {},
   "outputs": [
    {
     "name": "stdout",
     "output_type": "stream",
     "text": [
      "Range of years is from 1896 to  2016\n"
     ]
    }
   ],
   "source": [
    "print(\"Range of years is from\", min(olympics.Year), \"to \", max(olympics.Year))"
   ]
  },
  {
   "cell_type": "markdown",
   "id": "6d8c5458",
   "metadata": {},
   "source": [
    "### 1.3.1 Data Description before Cleaning"
   ]
  },
  {
   "cell_type": "code",
   "execution_count": 79,
   "id": "32e3de49",
   "metadata": {},
   "outputs": [
    {
     "name": "stdout",
     "output_type": "stream",
     "text": [
      "Data Description for all Variables before cleaning\n"
     ]
    },
    {
     "data": {
      "text/html": [
       "<div>\n",
       "<style scoped>\n",
       "    .dataframe tbody tr th:only-of-type {\n",
       "        vertical-align: middle;\n",
       "    }\n",
       "\n",
       "    .dataframe tbody tr th {\n",
       "        vertical-align: top;\n",
       "    }\n",
       "\n",
       "    .dataframe thead th {\n",
       "        text-align: right;\n",
       "    }\n",
       "</style>\n",
       "<table border=\"1\" class=\"dataframe\">\n",
       "  <thead>\n",
       "    <tr style=\"text-align: right;\">\n",
       "      <th></th>\n",
       "      <th>ID</th>\n",
       "      <th>Name</th>\n",
       "      <th>Sex</th>\n",
       "      <th>Age</th>\n",
       "      <th>Height</th>\n",
       "      <th>Weight</th>\n",
       "      <th>Team</th>\n",
       "      <th>NOC</th>\n",
       "      <th>Games</th>\n",
       "      <th>Year</th>\n",
       "      <th>Season</th>\n",
       "      <th>City</th>\n",
       "      <th>Sport</th>\n",
       "      <th>Event</th>\n",
       "      <th>Medal</th>\n",
       "    </tr>\n",
       "  </thead>\n",
       "  <tbody>\n",
       "    <tr>\n",
       "      <th>count</th>\n",
       "      <td>271116.000000</td>\n",
       "      <td>271116</td>\n",
       "      <td>271116</td>\n",
       "      <td>261642.000000</td>\n",
       "      <td>210945.000000</td>\n",
       "      <td>208241.000000</td>\n",
       "      <td>271116</td>\n",
       "      <td>271116</td>\n",
       "      <td>271116</td>\n",
       "      <td>271116.000000</td>\n",
       "      <td>271116</td>\n",
       "      <td>271116</td>\n",
       "      <td>271116</td>\n",
       "      <td>271116</td>\n",
       "      <td>39783</td>\n",
       "    </tr>\n",
       "    <tr>\n",
       "      <th>unique</th>\n",
       "      <td>NaN</td>\n",
       "      <td>134732</td>\n",
       "      <td>2</td>\n",
       "      <td>NaN</td>\n",
       "      <td>NaN</td>\n",
       "      <td>NaN</td>\n",
       "      <td>1184</td>\n",
       "      <td>230</td>\n",
       "      <td>51</td>\n",
       "      <td>NaN</td>\n",
       "      <td>2</td>\n",
       "      <td>42</td>\n",
       "      <td>66</td>\n",
       "      <td>765</td>\n",
       "      <td>3</td>\n",
       "    </tr>\n",
       "    <tr>\n",
       "      <th>top</th>\n",
       "      <td>NaN</td>\n",
       "      <td>Robert Tait McKenzie</td>\n",
       "      <td>M</td>\n",
       "      <td>NaN</td>\n",
       "      <td>NaN</td>\n",
       "      <td>NaN</td>\n",
       "      <td>United States</td>\n",
       "      <td>USA</td>\n",
       "      <td>2000 Summer</td>\n",
       "      <td>NaN</td>\n",
       "      <td>Summer</td>\n",
       "      <td>London</td>\n",
       "      <td>Athletics</td>\n",
       "      <td>Football Men's Football</td>\n",
       "      <td>Gold</td>\n",
       "    </tr>\n",
       "    <tr>\n",
       "      <th>freq</th>\n",
       "      <td>NaN</td>\n",
       "      <td>58</td>\n",
       "      <td>196594</td>\n",
       "      <td>NaN</td>\n",
       "      <td>NaN</td>\n",
       "      <td>NaN</td>\n",
       "      <td>17847</td>\n",
       "      <td>18853</td>\n",
       "      <td>13821</td>\n",
       "      <td>NaN</td>\n",
       "      <td>222552</td>\n",
       "      <td>22426</td>\n",
       "      <td>38624</td>\n",
       "      <td>5733</td>\n",
       "      <td>13372</td>\n",
       "    </tr>\n",
       "    <tr>\n",
       "      <th>mean</th>\n",
       "      <td>68248.954396</td>\n",
       "      <td>NaN</td>\n",
       "      <td>NaN</td>\n",
       "      <td>25.556898</td>\n",
       "      <td>175.338970</td>\n",
       "      <td>70.702393</td>\n",
       "      <td>NaN</td>\n",
       "      <td>NaN</td>\n",
       "      <td>NaN</td>\n",
       "      <td>1978.378480</td>\n",
       "      <td>NaN</td>\n",
       "      <td>NaN</td>\n",
       "      <td>NaN</td>\n",
       "      <td>NaN</td>\n",
       "      <td>NaN</td>\n",
       "    </tr>\n",
       "    <tr>\n",
       "      <th>std</th>\n",
       "      <td>39022.286345</td>\n",
       "      <td>NaN</td>\n",
       "      <td>NaN</td>\n",
       "      <td>6.393561</td>\n",
       "      <td>10.518462</td>\n",
       "      <td>14.348020</td>\n",
       "      <td>NaN</td>\n",
       "      <td>NaN</td>\n",
       "      <td>NaN</td>\n",
       "      <td>29.877632</td>\n",
       "      <td>NaN</td>\n",
       "      <td>NaN</td>\n",
       "      <td>NaN</td>\n",
       "      <td>NaN</td>\n",
       "      <td>NaN</td>\n",
       "    </tr>\n",
       "    <tr>\n",
       "      <th>min</th>\n",
       "      <td>1.000000</td>\n",
       "      <td>NaN</td>\n",
       "      <td>NaN</td>\n",
       "      <td>10.000000</td>\n",
       "      <td>127.000000</td>\n",
       "      <td>25.000000</td>\n",
       "      <td>NaN</td>\n",
       "      <td>NaN</td>\n",
       "      <td>NaN</td>\n",
       "      <td>1896.000000</td>\n",
       "      <td>NaN</td>\n",
       "      <td>NaN</td>\n",
       "      <td>NaN</td>\n",
       "      <td>NaN</td>\n",
       "      <td>NaN</td>\n",
       "    </tr>\n",
       "    <tr>\n",
       "      <th>25%</th>\n",
       "      <td>34643.000000</td>\n",
       "      <td>NaN</td>\n",
       "      <td>NaN</td>\n",
       "      <td>21.000000</td>\n",
       "      <td>168.000000</td>\n",
       "      <td>60.000000</td>\n",
       "      <td>NaN</td>\n",
       "      <td>NaN</td>\n",
       "      <td>NaN</td>\n",
       "      <td>1960.000000</td>\n",
       "      <td>NaN</td>\n",
       "      <td>NaN</td>\n",
       "      <td>NaN</td>\n",
       "      <td>NaN</td>\n",
       "      <td>NaN</td>\n",
       "    </tr>\n",
       "    <tr>\n",
       "      <th>50%</th>\n",
       "      <td>68205.000000</td>\n",
       "      <td>NaN</td>\n",
       "      <td>NaN</td>\n",
       "      <td>24.000000</td>\n",
       "      <td>175.000000</td>\n",
       "      <td>70.000000</td>\n",
       "      <td>NaN</td>\n",
       "      <td>NaN</td>\n",
       "      <td>NaN</td>\n",
       "      <td>1988.000000</td>\n",
       "      <td>NaN</td>\n",
       "      <td>NaN</td>\n",
       "      <td>NaN</td>\n",
       "      <td>NaN</td>\n",
       "      <td>NaN</td>\n",
       "    </tr>\n",
       "    <tr>\n",
       "      <th>75%</th>\n",
       "      <td>102097.250000</td>\n",
       "      <td>NaN</td>\n",
       "      <td>NaN</td>\n",
       "      <td>28.000000</td>\n",
       "      <td>183.000000</td>\n",
       "      <td>79.000000</td>\n",
       "      <td>NaN</td>\n",
       "      <td>NaN</td>\n",
       "      <td>NaN</td>\n",
       "      <td>2002.000000</td>\n",
       "      <td>NaN</td>\n",
       "      <td>NaN</td>\n",
       "      <td>NaN</td>\n",
       "      <td>NaN</td>\n",
       "      <td>NaN</td>\n",
       "    </tr>\n",
       "    <tr>\n",
       "      <th>max</th>\n",
       "      <td>135571.000000</td>\n",
       "      <td>NaN</td>\n",
       "      <td>NaN</td>\n",
       "      <td>97.000000</td>\n",
       "      <td>226.000000</td>\n",
       "      <td>214.000000</td>\n",
       "      <td>NaN</td>\n",
       "      <td>NaN</td>\n",
       "      <td>NaN</td>\n",
       "      <td>2016.000000</td>\n",
       "      <td>NaN</td>\n",
       "      <td>NaN</td>\n",
       "      <td>NaN</td>\n",
       "      <td>NaN</td>\n",
       "      <td>NaN</td>\n",
       "    </tr>\n",
       "  </tbody>\n",
       "</table>\n",
       "</div>"
      ],
      "text/plain": [
       "                   ID                  Name     Sex            Age  \\\n",
       "count   271116.000000                271116  271116  261642.000000   \n",
       "unique            NaN                134732       2            NaN   \n",
       "top               NaN  Robert Tait McKenzie       M            NaN   \n",
       "freq              NaN                    58  196594            NaN   \n",
       "mean     68248.954396                   NaN     NaN      25.556898   \n",
       "std      39022.286345                   NaN     NaN       6.393561   \n",
       "min          1.000000                   NaN     NaN      10.000000   \n",
       "25%      34643.000000                   NaN     NaN      21.000000   \n",
       "50%      68205.000000                   NaN     NaN      24.000000   \n",
       "75%     102097.250000                   NaN     NaN      28.000000   \n",
       "max     135571.000000                   NaN     NaN      97.000000   \n",
       "\n",
       "               Height         Weight           Team     NOC        Games  \\\n",
       "count   210945.000000  208241.000000         271116  271116       271116   \n",
       "unique            NaN            NaN           1184     230           51   \n",
       "top               NaN            NaN  United States     USA  2000 Summer   \n",
       "freq              NaN            NaN          17847   18853        13821   \n",
       "mean       175.338970      70.702393            NaN     NaN          NaN   \n",
       "std         10.518462      14.348020            NaN     NaN          NaN   \n",
       "min        127.000000      25.000000            NaN     NaN          NaN   \n",
       "25%        168.000000      60.000000            NaN     NaN          NaN   \n",
       "50%        175.000000      70.000000            NaN     NaN          NaN   \n",
       "75%        183.000000      79.000000            NaN     NaN          NaN   \n",
       "max        226.000000     214.000000            NaN     NaN          NaN   \n",
       "\n",
       "                 Year  Season    City      Sport                    Event  \\\n",
       "count   271116.000000  271116  271116     271116                   271116   \n",
       "unique            NaN       2      42         66                      765   \n",
       "top               NaN  Summer  London  Athletics  Football Men's Football   \n",
       "freq              NaN  222552   22426      38624                     5733   \n",
       "mean      1978.378480     NaN     NaN        NaN                      NaN   \n",
       "std         29.877632     NaN     NaN        NaN                      NaN   \n",
       "min       1896.000000     NaN     NaN        NaN                      NaN   \n",
       "25%       1960.000000     NaN     NaN        NaN                      NaN   \n",
       "50%       1988.000000     NaN     NaN        NaN                      NaN   \n",
       "75%       2002.000000     NaN     NaN        NaN                      NaN   \n",
       "max       2016.000000     NaN     NaN        NaN                      NaN   \n",
       "\n",
       "        Medal  \n",
       "count   39783  \n",
       "unique      3  \n",
       "top      Gold  \n",
       "freq    13372  \n",
       "mean      NaN  \n",
       "std       NaN  \n",
       "min       NaN  \n",
       "25%       NaN  \n",
       "50%       NaN  \n",
       "75%       NaN  \n",
       "max       NaN  "
      ]
     },
     "execution_count": 79,
     "metadata": {},
     "output_type": "execute_result"
    }
   ],
   "source": [
    "print(\"Data Description for all Variables before cleaning\")\n",
    "olympics.describe(include='all')"
   ]
  },
  {
   "cell_type": "markdown",
   "id": "230f02c9",
   "metadata": {},
   "source": [
    "***Observations***<br>\n",
    "1. Numeric Variables\n",
    "    1. ID seems to show 135,571 unique athletes have ever attended the Olympics\n",
    "    2. Age has extreme value of 97 years and so does weight with 214 Kg, this will have to be explored\n",
    "    3. The rest seem fine\n",
    "2. Text Variables\n",
    "    1. Names shows 134732 unique values\n",
    "    2. City, 42 Different Cities, a map will show them well\n",
    "    3. Rest seem fine"
   ]
  },
  {
   "cell_type": "markdown",
   "id": "96700822",
   "metadata": {},
   "source": [
    "***Checking for Usain Bolt in that data***"
   ]
  },
  {
   "cell_type": "code",
   "execution_count": 80,
   "id": "eface058",
   "metadata": {},
   "outputs": [
    {
     "data": {
      "text/html": [
       "<div>\n",
       "<style scoped>\n",
       "    .dataframe tbody tr th:only-of-type {\n",
       "        vertical-align: middle;\n",
       "    }\n",
       "\n",
       "    .dataframe tbody tr th {\n",
       "        vertical-align: top;\n",
       "    }\n",
       "\n",
       "    .dataframe thead th {\n",
       "        text-align: right;\n",
       "    }\n",
       "</style>\n",
       "<table border=\"1\" class=\"dataframe\">\n",
       "  <thead>\n",
       "    <tr style=\"text-align: right;\">\n",
       "      <th></th>\n",
       "      <th>ID</th>\n",
       "      <th>Name</th>\n",
       "      <th>Sex</th>\n",
       "      <th>Age</th>\n",
       "      <th>Height</th>\n",
       "      <th>Weight</th>\n",
       "      <th>Team</th>\n",
       "      <th>NOC</th>\n",
       "      <th>Games</th>\n",
       "      <th>Year</th>\n",
       "      <th>Season</th>\n",
       "      <th>City</th>\n",
       "      <th>Sport</th>\n",
       "      <th>Event</th>\n",
       "      <th>Medal</th>\n",
       "    </tr>\n",
       "  </thead>\n",
       "  <tbody>\n",
       "    <tr>\n",
       "      <th>3344</th>\n",
       "      <td>1883</td>\n",
       "      <td>Mamdooh Husain Isa Al-Doseri</td>\n",
       "      <td>M</td>\n",
       "      <td>20.0</td>\n",
       "      <td>NaN</td>\n",
       "      <td>NaN</td>\n",
       "      <td>Bahrain</td>\n",
       "      <td>BRN</td>\n",
       "      <td>1992 Summer</td>\n",
       "      <td>1992</td>\n",
       "      <td>Summer</td>\n",
       "      <td>Barcelona</td>\n",
       "      <td>Cycling</td>\n",
       "      <td>Cycling Men's 100 kilometres Team Time Trial</td>\n",
       "      <td>None</td>\n",
       "    </tr>\n",
       "    <tr>\n",
       "      <th>3595</th>\n",
       "      <td>2061</td>\n",
       "      <td>Husain Al-Mutairi</td>\n",
       "      <td>M</td>\n",
       "      <td>18.0</td>\n",
       "      <td>170.0</td>\n",
       "      <td>52.0</td>\n",
       "      <td>Kuwait</td>\n",
       "      <td>KUW</td>\n",
       "      <td>1988 Summer</td>\n",
       "      <td>1988</td>\n",
       "      <td>Summer</td>\n",
       "      <td>Seoul</td>\n",
       "      <td>Boxing</td>\n",
       "      <td>Boxing Men's Flyweight</td>\n",
       "      <td>None</td>\n",
       "    </tr>\n",
       "    <tr>\n",
       "      <th>24876</th>\n",
       "      <td>13029</td>\n",
       "      <td>Usain St. Leo Bolt</td>\n",
       "      <td>M</td>\n",
       "      <td>17.0</td>\n",
       "      <td>196.0</td>\n",
       "      <td>95.0</td>\n",
       "      <td>Jamaica</td>\n",
       "      <td>JAM</td>\n",
       "      <td>2004 Summer</td>\n",
       "      <td>2004</td>\n",
       "      <td>Summer</td>\n",
       "      <td>Athina</td>\n",
       "      <td>Athletics</td>\n",
       "      <td>Athletics Men's 200 metres</td>\n",
       "      <td>None</td>\n",
       "    </tr>\n",
       "    <tr>\n",
       "      <th>24877</th>\n",
       "      <td>13029</td>\n",
       "      <td>Usain St. Leo Bolt</td>\n",
       "      <td>M</td>\n",
       "      <td>21.0</td>\n",
       "      <td>196.0</td>\n",
       "      <td>95.0</td>\n",
       "      <td>Jamaica</td>\n",
       "      <td>JAM</td>\n",
       "      <td>2008 Summer</td>\n",
       "      <td>2008</td>\n",
       "      <td>Summer</td>\n",
       "      <td>Beijing</td>\n",
       "      <td>Athletics</td>\n",
       "      <td>Athletics Men's 100 metres</td>\n",
       "      <td>Gold</td>\n",
       "    </tr>\n",
       "    <tr>\n",
       "      <th>24878</th>\n",
       "      <td>13029</td>\n",
       "      <td>Usain St. Leo Bolt</td>\n",
       "      <td>M</td>\n",
       "      <td>21.0</td>\n",
       "      <td>196.0</td>\n",
       "      <td>95.0</td>\n",
       "      <td>Jamaica</td>\n",
       "      <td>JAM</td>\n",
       "      <td>2008 Summer</td>\n",
       "      <td>2008</td>\n",
       "      <td>Summer</td>\n",
       "      <td>Beijing</td>\n",
       "      <td>Athletics</td>\n",
       "      <td>Athletics Men's 200 metres</td>\n",
       "      <td>Gold</td>\n",
       "    </tr>\n",
       "  </tbody>\n",
       "</table>\n",
       "</div>"
      ],
      "text/plain": [
       "          ID                          Name Sex   Age  Height  Weight     Team  \\\n",
       "3344    1883  Mamdooh Husain Isa Al-Doseri   M  20.0     NaN     NaN  Bahrain   \n",
       "3595    2061             Husain Al-Mutairi   M  18.0   170.0    52.0   Kuwait   \n",
       "24876  13029            Usain St. Leo Bolt   M  17.0   196.0    95.0  Jamaica   \n",
       "24877  13029            Usain St. Leo Bolt   M  21.0   196.0    95.0  Jamaica   \n",
       "24878  13029            Usain St. Leo Bolt   M  21.0   196.0    95.0  Jamaica   \n",
       "\n",
       "       NOC        Games  Year  Season       City      Sport  \\\n",
       "3344   BRN  1992 Summer  1992  Summer  Barcelona    Cycling   \n",
       "3595   KUW  1988 Summer  1988  Summer      Seoul     Boxing   \n",
       "24876  JAM  2004 Summer  2004  Summer     Athina  Athletics   \n",
       "24877  JAM  2008 Summer  2008  Summer    Beijing  Athletics   \n",
       "24878  JAM  2008 Summer  2008  Summer    Beijing  Athletics   \n",
       "\n",
       "                                              Event Medal  \n",
       "3344   Cycling Men's 100 kilometres Team Time Trial  None  \n",
       "3595                         Boxing Men's Flyweight  None  \n",
       "24876                    Athletics Men's 200 metres  None  \n",
       "24877                    Athletics Men's 100 metres  Gold  \n",
       "24878                    Athletics Men's 200 metres  Gold  "
      ]
     },
     "execution_count": 80,
     "metadata": {},
     "output_type": "execute_result"
    }
   ],
   "source": [
    "olympics.loc[olympics['Name'].str.contains('usain', case=False)].head()"
   ]
  },
  {
   "cell_type": "markdown",
   "id": "2844a8da",
   "metadata": {},
   "source": [
    "### 1.3.2 Data Checks"
   ]
  },
  {
   "cell_type": "markdown",
   "id": "a0225ee4",
   "metadata": {},
   "source": [
    "***Test 1: Checking for Double Spaces in Athlete Names, should give blank Values***"
   ]
  },
  {
   "cell_type": "code",
   "execution_count": 81,
   "id": "a79b7fb5",
   "metadata": {},
   "outputs": [
    {
     "data": {
      "text/plain": [
       "Jean Honor  Gounot                         17\n",
       "Paolo Francesco \"Paul\"  Radmilovic         13\n",
       "Florence  Andre Isabelle Baverel-Robert    12\n",
       "Mladenka  Malenia (-Vidovic)                6\n",
       "Isabella Minna Veronica  Wagner             5\n",
       "                                           ..\n",
       "Ana Cludia  da Costa Gonalves               1\n",
       "Virginia Anne  \"Ginny\" Gilder               1\n",
       "Petru Ionel  Gavril                         1\n",
       "Jorge Ignacio  Garbey Castillo              1\n",
       "Edmund Roman  Zieliski                      1\n",
       "Name: Name, Length: 128, dtype: int64"
      ]
     },
     "execution_count": 81,
     "metadata": {},
     "output_type": "execute_result"
    }
   ],
   "source": [
    "olympics.loc[olympics['Name'].str.contains('  ', case=False)]['Name'].value_counts()#Name Variable"
   ]
  },
  {
   "cell_type": "markdown",
   "id": "cddc1132",
   "metadata": {},
   "source": [
    "***128 Athletes Names have double spaces***"
   ]
  },
  {
   "cell_type": "code",
   "execution_count": 82,
   "id": "9fca4483",
   "metadata": {},
   "outputs": [
    {
     "data": {
      "text/plain": [
       "Series([], Name: Team, dtype: int64)"
      ]
     },
     "execution_count": 82,
     "metadata": {},
     "output_type": "execute_result"
    }
   ],
   "source": [
    "olympics.loc[olympics['Team'].str.contains('  ', case=False)]['Team'].value_counts()#Team Variable"
   ]
  },
  {
   "cell_type": "code",
   "execution_count": 83,
   "id": "f32ff9f7",
   "metadata": {},
   "outputs": [
    {
     "data": {
      "text/plain": [
       "Series([], Name: Sport, dtype: int64)"
      ]
     },
     "execution_count": 83,
     "metadata": {},
     "output_type": "execute_result"
    }
   ],
   "source": [
    "olympics.loc[olympics['Sport'].str.contains('  ', case=False)]['Sport'].value_counts()#Sport Variable"
   ]
  },
  {
   "cell_type": "code",
   "execution_count": 84,
   "id": "56cb6b9a",
   "metadata": {},
   "outputs": [
    {
     "data": {
      "text/plain": [
       "Series([], Name: Event, dtype: int64)"
      ]
     },
     "execution_count": 84,
     "metadata": {},
     "output_type": "execute_result"
    }
   ],
   "source": [
    "olympics.loc[olympics['Event'].str.contains('  ', case=False)]['Event'].value_counts()#Event Variable"
   ]
  },
  {
   "cell_type": "code",
   "execution_count": 85,
   "id": "381b2f9c",
   "metadata": {},
   "outputs": [
    {
     "data": {
      "text/plain": [
       "Series([], Name: City, dtype: int64)"
      ]
     },
     "execution_count": 85,
     "metadata": {},
     "output_type": "execute_result"
    }
   ],
   "source": [
    "olympics.loc[olympics['City'].str.contains('  ', case=False)]['City'].value_counts()#Event Variable"
   ]
  },
  {
   "cell_type": "markdown",
   "id": "d21a62f6",
   "metadata": {},
   "source": [
    "***Test 2: Checking for Consinstent Single Spaces and Uniform Cases, should give consitent output,\n",
    "should easily show inconsitency***"
   ]
  },
  {
   "cell_type": "code",
   "execution_count": 86,
   "id": "717b38ae",
   "metadata": {},
   "outputs": [
    {
     "data": {
      "text/plain": [
       "Robert Tait McKenzie           58\n",
       "Heikki Ilmari Savolainen       39\n",
       "Joseph \"Josy\" Stoffel          38\n",
       "Ioannis Theofilakis            36\n",
       "Takashi Ono                    33\n",
       "                               ..\n",
       "Meng Fanlong                    1\n",
       "Jennifer Susan \"Jenny\" Duck     1\n",
       "Peter Ducke                     1\n",
       "Marcela Menezes                 1\n",
       "A Dijiang                       1\n",
       "Name: Name, Length: 134448, dtype: int64"
      ]
     },
     "execution_count": 86,
     "metadata": {},
     "output_type": "execute_result"
    }
   ],
   "source": [
    "olympics.loc[olympics['Name'].str.contains(' ', case=False)]['Name'].value_counts()#Name Variable"
   ]
  },
  {
   "cell_type": "code",
   "execution_count": 87,
   "id": "3457b6e3",
   "metadata": {},
   "outputs": [
    {
     "data": {
      "text/plain": [
       "United States       17847\n",
       "Great Britain       11404\n",
       "Soviet Union         5535\n",
       "South Korea          4344\n",
       "West Germany         3199\n",
       "                    ...  \n",
       "Quando Quando           1\n",
       "Whitini Star            1\n",
       "Pop Art                 1\n",
       "Pierre et Jean-3        1\n",
       "Dow Jones               1\n",
       "Name: Team, Length: 435, dtype: int64"
      ]
     },
     "execution_count": 87,
     "metadata": {},
     "output_type": "execute_result"
    }
   ],
   "source": [
    "olympics.loc[olympics['Team'].str.contains(' ', case=False)]['Team'].value_counts()#Team Variable"
   ]
  },
  {
   "cell_type": "code",
   "execution_count": 88,
   "id": "f5fcfa92",
   "metadata": {},
   "outputs": [
    {
     "data": {
      "text/plain": [
       "Cross Country Skiing         9133\n",
       "Alpine Skiing                8829\n",
       "Speed Skating                5613\n",
       "Ice Hockey                   5516\n",
       "Water Polo                   3846\n",
       "Art Competitions             3578\n",
       "Ski Jumping                  2401\n",
       "Figure Skating               2298\n",
       "Table Tennis                 1955\n",
       "Modern Pentathlon            1677\n",
       "Short Track Speed Skating    1534\n",
       "Nordic Combined              1344\n",
       "Freestyle Skiing              937\n",
       "Synchronized Swimming         909\n",
       "Rhythmic Gymnastics           658\n",
       "Beach Volleyball              564\n",
       "Rugby Sevens                  299\n",
       "Military Ski Patrol            24\n",
       "Jeu De Paume                   11\n",
       "Basque Pelota                   2\n",
       "Name: Sport, dtype: int64"
      ]
     },
     "execution_count": 88,
     "metadata": {},
     "output_type": "execute_result"
    }
   ],
   "source": [
    "olympics.loc[olympics['Sport'].str.contains(' ', case=False)]['Sport'].value_counts()#Sport Variable"
   ]
  },
  {
   "cell_type": "code",
   "execution_count": 89,
   "id": "0c9168b9",
   "metadata": {},
   "outputs": [
    {
     "data": {
      "text/plain": [
       "Football Men's Football                                5733\n",
       "Ice Hockey Men's Ice Hockey                            4762\n",
       "Hockey Men's Hockey                                    3958\n",
       "Water Polo Men's Water Polo                            3358\n",
       "Basketball Men's Basketball                            3280\n",
       "                                                       ... \n",
       "Croquet Mixed Doubles                                     2\n",
       "Archery Men's Target Archery, 50 metres, Individual       2\n",
       "Archery Men's Target Archery, 33 metres, Individual       2\n",
       "Archery Men's Target Archery, 28 metres, Individual       2\n",
       "Aeronautics Mixed Aeronautics                             1\n",
       "Name: Event, Length: 765, dtype: int64"
      ]
     },
     "execution_count": 89,
     "metadata": {},
     "output_type": "execute_result"
    }
   ],
   "source": [
    "olympics.loc[olympics['Event'].str.contains(' ', case=False)]['Event'].value_counts()#Event Variable"
   ]
  },
  {
   "cell_type": "code",
   "execution_count": 90,
   "id": "c2f67cce",
   "metadata": {},
   "outputs": [
    {
     "data": {
      "text/plain": [
       "Rio de Janeiro       13688\n",
       "Los Angeles          12423\n",
       "Mexico City           8588\n",
       "Salt Lake City        4109\n",
       "Lake Placid           2098\n",
       "Sankt Moritz          1657\n",
       "Cortina d'Ampezzo     1307\n",
       "St. Louis             1301\n",
       "Squaw Valley          1116\n",
       "Name: City, dtype: int64"
      ]
     },
     "execution_count": 90,
     "metadata": {},
     "output_type": "execute_result"
    }
   ],
   "source": [
    "olympics.loc[olympics['City'].str.contains(' ', case=False)]['City'].value_counts()#Event Variable"
   ]
  },
  {
   "cell_type": "markdown",
   "id": "f1252f70",
   "metadata": {},
   "source": [
    "***By and Large, the case seems to be consitent***"
   ]
  },
  {
   "cell_type": "code",
   "execution_count": 91,
   "id": "6b976f02",
   "metadata": {},
   "outputs": [],
   "source": [
    "#olympics.loc[olympics['Name'].str.contains('usain', case=False)]\n",
    "#olympics.loc[olympics['Team'].str.contains(' ', case=False)]"
   ]
  },
  {
   "cell_type": "markdown",
   "id": "de81e8eb",
   "metadata": {},
   "source": [
    "### 1.3.4 Data Cleanup Summary\n",
    "***\n",
    "The file athlete_events.csv or olympics.parquet, contains 271,116 rows and 15 columns.<br>\n",
    "Each row/record corresponds to an individual athlete competing in an individual Olympic event (athlete-events).<br>\n",
    "The columns are the following:\n",
    "***\n",
    "ID - Unique ID, assumed to be clean, no Nulls ***will check would be to see if the same athlete from one NOC has 2 Ids***<br>\n",
    "Name - Athlete's Full name,134732, unique values ***will be trimmed and double spaces replace with single space***<br>\n",
    "Sex - M or F; Clean<br>\n",
    "Age - Integer of years, 9,474 Nulls, ***nothing can be done here, may be check if some athletes declared age in later years then backfill***<br>\n",
    "Height - In centimeters, okay, 60,171 Nulls<br>\n",
    "Weight - In kilograms, okay, 62,875 Nulls<br>\n",
    "Team - Team name, will pick the Country name from the NOC file;***checked, clean***<br>\n",
    "NOC - National Olympic Committee 3-letter code;<br>\n",
    "Games - Year and season;<br>\n",
    "Year - Integer;<br>\n",
    "Season - Summer or Winter;<br>\n",
    "City - Host city, ***checked, clean***<br>\n",
    "Sport - Sport;***checked, clean***<br>\n",
    "Event - Event;***checked, clean***<br>\n",
    "Medal - Gold, Silver, Bronze, or NA.<br>\n",
    "\n",
    "Will add EventScore, Gold ->10, Silver ->7.5, Bronze->5, or NA->1 for qualifying.<br>\n",
    "Will add medal binary, Gold ->1, Silver ->1, Bronze->1, or NA-0 <br>\n",
    "\n",
    "Data will be joined to NOC to get Country"
   ]
  },
  {
   "cell_type": "markdown",
   "id": "dad6fd0d",
   "metadata": {},
   "source": [
    "***Performing the cleanups***"
   ]
  },
  {
   "cell_type": "code",
   "execution_count": 92,
   "id": "e57b2f83",
   "metadata": {},
   "outputs": [],
   "source": [
    "olympics['Name'] = olympics['Name'].str.replace('  ', ' ')#Replace double space with single space, may have to be run several times\n",
    "olympics['Name'] = olympics.Name.str.strip()"
   ]
  },
  {
   "cell_type": "markdown",
   "id": "643f12aa",
   "metadata": {},
   "source": [
    "***Checking the cleaned columns***"
   ]
  },
  {
   "cell_type": "code",
   "execution_count": 93,
   "id": "f0730099",
   "metadata": {},
   "outputs": [
    {
     "data": {
      "text/plain": [
       "Series([], Name: Name, dtype: int64)"
      ]
     },
     "execution_count": 93,
     "metadata": {},
     "output_type": "execute_result"
    }
   ],
   "source": [
    "olympics.loc[olympics['Name'].str.contains('  ', case=False)]['Name'].value_counts()#Name Variable"
   ]
  },
  {
   "cell_type": "code",
   "execution_count": 94,
   "id": "23986ecc",
   "metadata": {},
   "outputs": [
    {
     "data": {
      "text/plain": [
       "Robert Tait McKenzie          58\n",
       "Heikki Ilmari Savolainen      39\n",
       "Joseph \"Josy\" Stoffel         38\n",
       "Ioannis Theofilakis           36\n",
       "Takashi Ono                   33\n",
       "                              ..\n",
       "Maria Ulrika Kalte             1\n",
       "Josef Kalt (-Arnet)            1\n",
       "Katri Johanna Kalpala          1\n",
       "Dorothea \"Dora\" Kalpakidou     1\n",
       "Georges Marcel Lecointe        1\n",
       "Name: Name, Length: 134447, dtype: int64"
      ]
     },
     "execution_count": 94,
     "metadata": {},
     "output_type": "execute_result"
    }
   ],
   "source": [
    "olympics.loc[olympics['Name'].str.contains(' ', case=False)]['Name'].value_counts()#Name Variable"
   ]
  },
  {
   "cell_type": "markdown",
   "id": "79ff6486",
   "metadata": {},
   "source": [
    "### 1.3.5 Data Description After Cleaning"
   ]
  },
  {
   "cell_type": "markdown",
   "id": "181ae900",
   "metadata": {},
   "source": [
    "### Joinining the Cleaned Data to NOC"
   ]
  },
  {
   "cell_type": "code",
   "execution_count": 95,
   "id": "28c7eff4",
   "metadata": {},
   "outputs": [],
   "source": [
    "olympics_merge = pd.merge(olympics, noc, on='NOC', how='left')"
   ]
  },
  {
   "cell_type": "code",
   "execution_count": 96,
   "id": "a16bcc4e",
   "metadata": {},
   "outputs": [
    {
     "data": {
      "text/plain": [
       "ROT    12\n",
       "TUV     7\n",
       "UNK     2\n",
       "Name: NOC, dtype: int64"
      ]
     },
     "execution_count": 96,
     "metadata": {},
     "output_type": "execute_result"
    }
   ],
   "source": [
    "olympics_merge[olympics_merge[\"region\"].isnull()]['NOC'].value_counts()"
   ]
  },
  {
   "cell_type": "code",
   "execution_count": 97,
   "id": "c43dce4c",
   "metadata": {},
   "outputs": [],
   "source": [
    "#olympics[olympics[\"region\"].isnull()]['region'] =olympics[olympics[\"region\"].isnull()]['notes']\n",
    "\n",
    "#olympics.loc[olympics[\"region\"].isnull(), ['region']]=olympics.loc[olympics[\"region\"].isnull(), ['notes']]\n",
    "\n",
    "#df['First Season'] = np.where(df['First Season'] > 1990, 1, df['First Season'])\n",
    "olympics_merge[\"region\"]=np.where(olympics_merge[\"region\"].isnull(), olympics_merge[\"notes\"],olympics_merge[\"region\"])\n"
   ]
  },
  {
   "cell_type": "code",
   "execution_count": 98,
   "id": "019442bb",
   "metadata": {},
   "outputs": [
    {
     "data": {
      "text/plain": [
       "Series([], Name: NOC, dtype: int64)"
      ]
     },
     "execution_count": 98,
     "metadata": {},
     "output_type": "execute_result"
    }
   ],
   "source": [
    "olympics_merge[olympics_merge[\"region\"].isnull()]['NOC'].value_counts()"
   ]
  },
  {
   "cell_type": "code",
   "execution_count": 99,
   "id": "3961e085",
   "metadata": {},
   "outputs": [
    {
     "name": "stdout",
     "output_type": "stream",
     "text": [
      "Data Description for all Variables After cleaning\n"
     ]
    },
    {
     "data": {
      "text/html": [
       "<div>\n",
       "<style scoped>\n",
       "    .dataframe tbody tr th:only-of-type {\n",
       "        vertical-align: middle;\n",
       "    }\n",
       "\n",
       "    .dataframe tbody tr th {\n",
       "        vertical-align: top;\n",
       "    }\n",
       "\n",
       "    .dataframe thead th {\n",
       "        text-align: right;\n",
       "    }\n",
       "</style>\n",
       "<table border=\"1\" class=\"dataframe\">\n",
       "  <thead>\n",
       "    <tr style=\"text-align: right;\">\n",
       "      <th></th>\n",
       "      <th>ID</th>\n",
       "      <th>Name</th>\n",
       "      <th>Sex</th>\n",
       "      <th>Age</th>\n",
       "      <th>Height</th>\n",
       "      <th>Weight</th>\n",
       "      <th>Team</th>\n",
       "      <th>NOC</th>\n",
       "      <th>Games</th>\n",
       "      <th>Year</th>\n",
       "      <th>Season</th>\n",
       "      <th>City</th>\n",
       "      <th>Sport</th>\n",
       "      <th>Event</th>\n",
       "      <th>Medal</th>\n",
       "      <th>region</th>\n",
       "      <th>notes</th>\n",
       "    </tr>\n",
       "  </thead>\n",
       "  <tbody>\n",
       "    <tr>\n",
       "      <th>count</th>\n",
       "      <td>271137.000000</td>\n",
       "      <td>271137</td>\n",
       "      <td>271137</td>\n",
       "      <td>261661.000000</td>\n",
       "      <td>210961.000000</td>\n",
       "      <td>208259.000000</td>\n",
       "      <td>271137</td>\n",
       "      <td>271137</td>\n",
       "      <td>271137</td>\n",
       "      <td>271137.000000</td>\n",
       "      <td>271137</td>\n",
       "      <td>271137</td>\n",
       "      <td>271137</td>\n",
       "      <td>271137</td>\n",
       "      <td>39783</td>\n",
       "      <td>271137</td>\n",
       "      <td>5039</td>\n",
       "    </tr>\n",
       "    <tr>\n",
       "      <th>unique</th>\n",
       "      <td>NaN</td>\n",
       "      <td>134731</td>\n",
       "      <td>2</td>\n",
       "      <td>NaN</td>\n",
       "      <td>NaN</td>\n",
       "      <td>NaN</td>\n",
       "      <td>1184</td>\n",
       "      <td>230</td>\n",
       "      <td>51</td>\n",
       "      <td>NaN</td>\n",
       "      <td>2</td>\n",
       "      <td>42</td>\n",
       "      <td>66</td>\n",
       "      <td>765</td>\n",
       "      <td>3</td>\n",
       "      <td>209</td>\n",
       "      <td>21</td>\n",
       "    </tr>\n",
       "    <tr>\n",
       "      <th>top</th>\n",
       "      <td>NaN</td>\n",
       "      <td>Robert Tait McKenzie</td>\n",
       "      <td>M</td>\n",
       "      <td>NaN</td>\n",
       "      <td>NaN</td>\n",
       "      <td>NaN</td>\n",
       "      <td>United States</td>\n",
       "      <td>USA</td>\n",
       "      <td>2000 Summer</td>\n",
       "      <td>NaN</td>\n",
       "      <td>Summer</td>\n",
       "      <td>London</td>\n",
       "      <td>Athletics</td>\n",
       "      <td>Football Men's Football</td>\n",
       "      <td>Gold</td>\n",
       "      <td>USA</td>\n",
       "      <td>Yugoslavia</td>\n",
       "    </tr>\n",
       "    <tr>\n",
       "      <th>freq</th>\n",
       "      <td>NaN</td>\n",
       "      <td>58</td>\n",
       "      <td>196608</td>\n",
       "      <td>NaN</td>\n",
       "      <td>NaN</td>\n",
       "      <td>NaN</td>\n",
       "      <td>17847</td>\n",
       "      <td>18853</td>\n",
       "      <td>13821</td>\n",
       "      <td>NaN</td>\n",
       "      <td>222573</td>\n",
       "      <td>22429</td>\n",
       "      <td>38635</td>\n",
       "      <td>5733</td>\n",
       "      <td>13372</td>\n",
       "      <td>18853</td>\n",
       "      <td>2583</td>\n",
       "    </tr>\n",
       "    <tr>\n",
       "      <th>mean</th>\n",
       "      <td>68247.971867</td>\n",
       "      <td>NaN</td>\n",
       "      <td>NaN</td>\n",
       "      <td>25.556678</td>\n",
       "      <td>175.338480</td>\n",
       "      <td>70.701708</td>\n",
       "      <td>NaN</td>\n",
       "      <td>NaN</td>\n",
       "      <td>NaN</td>\n",
       "      <td>1978.380494</td>\n",
       "      <td>NaN</td>\n",
       "      <td>NaN</td>\n",
       "      <td>NaN</td>\n",
       "      <td>NaN</td>\n",
       "      <td>NaN</td>\n",
       "      <td>NaN</td>\n",
       "      <td>NaN</td>\n",
       "    </tr>\n",
       "    <tr>\n",
       "      <th>std</th>\n",
       "      <td>39022.161330</td>\n",
       "      <td>NaN</td>\n",
       "      <td>NaN</td>\n",
       "      <td>6.393486</td>\n",
       "      <td>10.518686</td>\n",
       "      <td>14.348031</td>\n",
       "      <td>NaN</td>\n",
       "      <td>NaN</td>\n",
       "      <td>NaN</td>\n",
       "      <td>29.878526</td>\n",
       "      <td>NaN</td>\n",
       "      <td>NaN</td>\n",
       "      <td>NaN</td>\n",
       "      <td>NaN</td>\n",
       "      <td>NaN</td>\n",
       "      <td>NaN</td>\n",
       "      <td>NaN</td>\n",
       "    </tr>\n",
       "    <tr>\n",
       "      <th>min</th>\n",
       "      <td>1.000000</td>\n",
       "      <td>NaN</td>\n",
       "      <td>NaN</td>\n",
       "      <td>10.000000</td>\n",
       "      <td>127.000000</td>\n",
       "      <td>25.000000</td>\n",
       "      <td>NaN</td>\n",
       "      <td>NaN</td>\n",
       "      <td>NaN</td>\n",
       "      <td>1896.000000</td>\n",
       "      <td>NaN</td>\n",
       "      <td>NaN</td>\n",
       "      <td>NaN</td>\n",
       "      <td>NaN</td>\n",
       "      <td>NaN</td>\n",
       "      <td>NaN</td>\n",
       "      <td>NaN</td>\n",
       "    </tr>\n",
       "    <tr>\n",
       "      <th>25%</th>\n",
       "      <td>34643.000000</td>\n",
       "      <td>NaN</td>\n",
       "      <td>NaN</td>\n",
       "      <td>21.000000</td>\n",
       "      <td>168.000000</td>\n",
       "      <td>60.000000</td>\n",
       "      <td>NaN</td>\n",
       "      <td>NaN</td>\n",
       "      <td>NaN</td>\n",
       "      <td>1960.000000</td>\n",
       "      <td>NaN</td>\n",
       "      <td>NaN</td>\n",
       "      <td>NaN</td>\n",
       "      <td>NaN</td>\n",
       "      <td>NaN</td>\n",
       "      <td>NaN</td>\n",
       "      <td>NaN</td>\n",
       "    </tr>\n",
       "    <tr>\n",
       "      <th>50%</th>\n",
       "      <td>68205.000000</td>\n",
       "      <td>NaN</td>\n",
       "      <td>NaN</td>\n",
       "      <td>24.000000</td>\n",
       "      <td>175.000000</td>\n",
       "      <td>70.000000</td>\n",
       "      <td>NaN</td>\n",
       "      <td>NaN</td>\n",
       "      <td>NaN</td>\n",
       "      <td>1988.000000</td>\n",
       "      <td>NaN</td>\n",
       "      <td>NaN</td>\n",
       "      <td>NaN</td>\n",
       "      <td>NaN</td>\n",
       "      <td>NaN</td>\n",
       "      <td>NaN</td>\n",
       "      <td>NaN</td>\n",
       "    </tr>\n",
       "    <tr>\n",
       "      <th>75%</th>\n",
       "      <td>102096.000000</td>\n",
       "      <td>NaN</td>\n",
       "      <td>NaN</td>\n",
       "      <td>28.000000</td>\n",
       "      <td>183.000000</td>\n",
       "      <td>79.000000</td>\n",
       "      <td>NaN</td>\n",
       "      <td>NaN</td>\n",
       "      <td>NaN</td>\n",
       "      <td>2002.000000</td>\n",
       "      <td>NaN</td>\n",
       "      <td>NaN</td>\n",
       "      <td>NaN</td>\n",
       "      <td>NaN</td>\n",
       "      <td>NaN</td>\n",
       "      <td>NaN</td>\n",
       "      <td>NaN</td>\n",
       "    </tr>\n",
       "    <tr>\n",
       "      <th>max</th>\n",
       "      <td>135571.000000</td>\n",
       "      <td>NaN</td>\n",
       "      <td>NaN</td>\n",
       "      <td>97.000000</td>\n",
       "      <td>226.000000</td>\n",
       "      <td>214.000000</td>\n",
       "      <td>NaN</td>\n",
       "      <td>NaN</td>\n",
       "      <td>NaN</td>\n",
       "      <td>2016.000000</td>\n",
       "      <td>NaN</td>\n",
       "      <td>NaN</td>\n",
       "      <td>NaN</td>\n",
       "      <td>NaN</td>\n",
       "      <td>NaN</td>\n",
       "      <td>NaN</td>\n",
       "      <td>NaN</td>\n",
       "    </tr>\n",
       "  </tbody>\n",
       "</table>\n",
       "</div>"
      ],
      "text/plain": [
       "                   ID                  Name     Sex            Age  \\\n",
       "count   271137.000000                271137  271137  261661.000000   \n",
       "unique            NaN                134731       2            NaN   \n",
       "top               NaN  Robert Tait McKenzie       M            NaN   \n",
       "freq              NaN                    58  196608            NaN   \n",
       "mean     68247.971867                   NaN     NaN      25.556678   \n",
       "std      39022.161330                   NaN     NaN       6.393486   \n",
       "min          1.000000                   NaN     NaN      10.000000   \n",
       "25%      34643.000000                   NaN     NaN      21.000000   \n",
       "50%      68205.000000                   NaN     NaN      24.000000   \n",
       "75%     102096.000000                   NaN     NaN      28.000000   \n",
       "max     135571.000000                   NaN     NaN      97.000000   \n",
       "\n",
       "               Height         Weight           Team     NOC        Games  \\\n",
       "count   210961.000000  208259.000000         271137  271137       271137   \n",
       "unique            NaN            NaN           1184     230           51   \n",
       "top               NaN            NaN  United States     USA  2000 Summer   \n",
       "freq              NaN            NaN          17847   18853        13821   \n",
       "mean       175.338480      70.701708            NaN     NaN          NaN   \n",
       "std         10.518686      14.348031            NaN     NaN          NaN   \n",
       "min        127.000000      25.000000            NaN     NaN          NaN   \n",
       "25%        168.000000      60.000000            NaN     NaN          NaN   \n",
       "50%        175.000000      70.000000            NaN     NaN          NaN   \n",
       "75%        183.000000      79.000000            NaN     NaN          NaN   \n",
       "max        226.000000     214.000000            NaN     NaN          NaN   \n",
       "\n",
       "                 Year  Season    City      Sport                    Event  \\\n",
       "count   271137.000000  271137  271137     271137                   271137   \n",
       "unique            NaN       2      42         66                      765   \n",
       "top               NaN  Summer  London  Athletics  Football Men's Football   \n",
       "freq              NaN  222573   22429      38635                     5733   \n",
       "mean      1978.380494     NaN     NaN        NaN                      NaN   \n",
       "std         29.878526     NaN     NaN        NaN                      NaN   \n",
       "min       1896.000000     NaN     NaN        NaN                      NaN   \n",
       "25%       1960.000000     NaN     NaN        NaN                      NaN   \n",
       "50%       1988.000000     NaN     NaN        NaN                      NaN   \n",
       "75%       2002.000000     NaN     NaN        NaN                      NaN   \n",
       "max       2016.000000     NaN     NaN        NaN                      NaN   \n",
       "\n",
       "        Medal  region       notes  \n",
       "count   39783  271137        5039  \n",
       "unique      3     209          21  \n",
       "top      Gold     USA  Yugoslavia  \n",
       "freq    13372   18853        2583  \n",
       "mean      NaN     NaN         NaN  \n",
       "std       NaN     NaN         NaN  \n",
       "min       NaN     NaN         NaN  \n",
       "25%       NaN     NaN         NaN  \n",
       "50%       NaN     NaN         NaN  \n",
       "75%       NaN     NaN         NaN  \n",
       "max       NaN     NaN         NaN  "
      ]
     },
     "execution_count": 99,
     "metadata": {},
     "output_type": "execute_result"
    }
   ],
   "source": [
    "print(\"Data Description for all Variables After cleaning\")\n",
    "olympics_merge.describe(include='all')"
   ]
  },
  {
   "cell_type": "markdown",
   "id": "514fbe01",
   "metadata": {},
   "source": [
    "#### 1.21 Data Transfer to SQL, SQLite\n",
    "***This uses ipython-sql, if missing please install***"
   ]
  },
  {
   "cell_type": "code",
   "execution_count": 100,
   "id": "15c20529",
   "metadata": {},
   "outputs": [],
   "source": [
    "#pip install ipython-sql"
   ]
  },
  {
   "cell_type": "code",
   "execution_count": 101,
   "id": "7877058f",
   "metadata": {},
   "outputs": [
    {
     "name": "stdout",
     "output_type": "stream",
     "text": [
      "The sql extension is already loaded. To reload it, use:\n",
      "  %reload_ext sql\n"
     ]
    }
   ],
   "source": [
    "%load_ext sql"
   ]
  },
  {
   "cell_type": "code",
   "execution_count": 158,
   "id": "6ba083a5",
   "metadata": {},
   "outputs": [],
   "source": [
    "conn = sqlite3.connect('Olympics.db')\n",
    "cur = conn.cursor()"
   ]
  },
  {
   "cell_type": "code",
   "execution_count": 159,
   "id": "bbcefb0f",
   "metadata": {},
   "outputs": [],
   "source": [
    "%sql sqlite:///Olympics.db"
   ]
  },
  {
   "cell_type": "code",
   "execution_count": 104,
   "id": "7aeed559",
   "metadata": {},
   "outputs": [],
   "source": [
    "noc.to_sql(\"NOC\", conn, if_exists='replace', index=False,method=\"multi\")\n",
    "countries.to_sql(\"Countries\", conn, if_exists='replace', index=False,method=\"multi\")\n",
    "olympics.to_sql(\"Olympics\", conn, if_exists='replace', index=False,method=None);\n",
    "#None method is used for Olympics since they are 271,116 rows to enable using insert and avoid\n",
    "#OperationalError: too many SQL variables, caused by trying to write all rows at Once.\n",
    "#chunksize can also be used"
   ]
  },
  {
   "cell_type": "code",
   "execution_count": 160,
   "id": "f3262058",
   "metadata": {},
   "outputs": [
    {
     "name": "stdout",
     "output_type": "stream",
     "text": [
      " * sqlite:///Olympics.db\n",
      "Done.\n"
     ]
    },
    {
     "data": {
      "text/html": [
       "<table>\n",
       "    <tr>\n",
       "        <th>type</th>\n",
       "        <th>name</th>\n",
       "        <th>tbl_name</th>\n",
       "        <th>rootpage</th>\n",
       "        <th>sql</th>\n",
       "    </tr>\n",
       "    <tr>\n",
       "        <td>table</td>\n",
       "        <td>NOC</td>\n",
       "        <td>NOC</td>\n",
       "        <td>2</td>\n",
       "        <td>CREATE TABLE &quot;NOC&quot; (<br>&quot;NOC&quot; TEXT,<br>  &quot;region&quot; TEXT,<br>  &quot;notes&quot; TEXT<br>)</td>\n",
       "    </tr>\n",
       "    <tr>\n",
       "        <td>table</td>\n",
       "        <td>Countries</td>\n",
       "        <td>Countries</td>\n",
       "        <td>5</td>\n",
       "        <td>CREATE TABLE &quot;Countries&quot; (<br>&quot;Country&quot; TEXT,<br>  &quot;Continent&quot; TEXT,<br>  &quot;Region&quot; TEXT,<br>  &quot;Population&quot; INTEGER,<br>  &quot;Area _sq_ mi_)&quot; INTEGER,<br>  &quot;Pop_ Density _per sq_ mi_)&quot; TEXT,<br>  &quot;Coastline _coast_area ratio&quot; TEXT,<br>  &quot;Net migration&quot; TEXT,<br>  &quot;Infant mortality _per 1000 births)&quot; TEXT,<br>  &quot;GDP _USD_per capita&quot; REAL,<br>  &quot;Literacy _%)&quot; TEXT,<br>  &quot;Phones _per 1000)&quot; TEXT,<br>  &quot;Arable&quot; TEXT,<br>  &quot;Crops&quot; TEXT,<br>  &quot;Other&quot; TEXT,<br>  &quot;Climate&quot; TEXT,<br>  &quot;Birthrate&quot; TEXT,<br>  &quot;Deathrate&quot; TEXT,<br>  &quot;Agriculture&quot; TEXT,<br>  &quot;Industry&quot; TEXT,<br>  &quot;Service&quot; TEXT<br>)</td>\n",
       "    </tr>\n",
       "    <tr>\n",
       "        <td>table</td>\n",
       "        <td>Olympics</td>\n",
       "        <td>Olympics</td>\n",
       "        <td>15</td>\n",
       "        <td>CREATE TABLE &quot;Olympics&quot; (<br>&quot;ID&quot; INTEGER,<br>  &quot;Name&quot; TEXT,<br>  &quot;Sex&quot; TEXT,<br>  &quot;Age&quot; REAL,<br>  &quot;Height&quot; REAL,<br>  &quot;Weight&quot; REAL,<br>  &quot;Team&quot; TEXT,<br>  &quot;NOC&quot; TEXT,<br>  &quot;Games&quot; TEXT,<br>  &quot;Year&quot; INTEGER,<br>  &quot;Season&quot; TEXT,<br>  &quot;City&quot; TEXT,<br>  &quot;Sport&quot; TEXT,<br>  &quot;Event&quot; TEXT,<br>  &quot;Medal&quot; TEXT<br>)</td>\n",
       "    </tr>\n",
       "</table>"
      ],
      "text/plain": [
       "[('table', 'NOC', 'NOC', 2, 'CREATE TABLE \"NOC\" (\\n\"NOC\" TEXT,\\n  \"region\" TEXT,\\n  \"notes\" TEXT\\n)'),\n",
       " ('table', 'Countries', 'Countries', 5, 'CREATE TABLE \"Countries\" (\\n\"Country\" TEXT,\\n  \"Continent\" TEXT,\\n  \"Region\" TEXT,\\n  \"Population\" INTEGER,\\n  \"Area _sq_ mi_)\" INTEGER,\\n  \"Pop_ Den ... (247 characters truncated) ... \" TEXT,\\n  \"Other\" TEXT,\\n  \"Climate\" TEXT,\\n  \"Birthrate\" TEXT,\\n  \"Deathrate\" TEXT,\\n  \"Agriculture\" TEXT,\\n  \"Industry\" TEXT,\\n  \"Service\" TEXT\\n)'),\n",
       " ('table', 'Olympics', 'Olympics', 15, 'CREATE TABLE \"Olympics\" (\\n\"ID\" INTEGER,\\n  \"Name\" TEXT,\\n  \"Sex\" TEXT,\\n  \"Age\" REAL,\\n  \"Height\" REAL,\\n  \"Weight\" REAL,\\n  \"Team\" TEXT,\\n  \"NOC\" TEXT,\\n  \"Games\" TEXT,\\n  \"Year\" INTEGER,\\n  \"Season\" TEXT,\\n  \"City\" TEXT,\\n  \"Sport\" TEXT,\\n  \"Event\" TEXT,\\n  \"Medal\" TEXT\\n)')]"
      ]
     },
     "execution_count": 160,
     "metadata": {},
     "output_type": "execute_result"
    }
   ],
   "source": [
    "#list of all tables in the database and a basic description and SQL Create Code\n",
    "%sql select * from sqlite_master WHERE type='table';"
   ]
  },
  {
   "cell_type": "code",
   "execution_count": 106,
   "id": "3d4642c2",
   "metadata": {},
   "outputs": [
    {
     "name": "stdout",
     "output_type": "stream",
     "text": [
      " * sqlite:///Olympics.db\n",
      "Done.\n"
     ]
    },
    {
     "data": {
      "text/html": [
       "<table>\n",
       "    <tr>\n",
       "        <th>name</th>\n",
       "        <th>type</th>\n",
       "        <th>length(type)</th>\n",
       "    </tr>\n",
       "    <tr>\n",
       "        <td>ID</td>\n",
       "        <td>INTEGER</td>\n",
       "        <td>7</td>\n",
       "    </tr>\n",
       "    <tr>\n",
       "        <td>Name</td>\n",
       "        <td>TEXT</td>\n",
       "        <td>4</td>\n",
       "    </tr>\n",
       "    <tr>\n",
       "        <td>Sex</td>\n",
       "        <td>TEXT</td>\n",
       "        <td>4</td>\n",
       "    </tr>\n",
       "    <tr>\n",
       "        <td>Age</td>\n",
       "        <td>REAL</td>\n",
       "        <td>4</td>\n",
       "    </tr>\n",
       "    <tr>\n",
       "        <td>Height</td>\n",
       "        <td>REAL</td>\n",
       "        <td>4</td>\n",
       "    </tr>\n",
       "    <tr>\n",
       "        <td>Weight</td>\n",
       "        <td>REAL</td>\n",
       "        <td>4</td>\n",
       "    </tr>\n",
       "    <tr>\n",
       "        <td>Team</td>\n",
       "        <td>TEXT</td>\n",
       "        <td>4</td>\n",
       "    </tr>\n",
       "    <tr>\n",
       "        <td>NOC</td>\n",
       "        <td>TEXT</td>\n",
       "        <td>4</td>\n",
       "    </tr>\n",
       "    <tr>\n",
       "        <td>Games</td>\n",
       "        <td>TEXT</td>\n",
       "        <td>4</td>\n",
       "    </tr>\n",
       "    <tr>\n",
       "        <td>Year</td>\n",
       "        <td>INTEGER</td>\n",
       "        <td>7</td>\n",
       "    </tr>\n",
       "    <tr>\n",
       "        <td>Season</td>\n",
       "        <td>TEXT</td>\n",
       "        <td>4</td>\n",
       "    </tr>\n",
       "    <tr>\n",
       "        <td>City</td>\n",
       "        <td>TEXT</td>\n",
       "        <td>4</td>\n",
       "    </tr>\n",
       "    <tr>\n",
       "        <td>Sport</td>\n",
       "        <td>TEXT</td>\n",
       "        <td>4</td>\n",
       "    </tr>\n",
       "    <tr>\n",
       "        <td>Event</td>\n",
       "        <td>TEXT</td>\n",
       "        <td>4</td>\n",
       "    </tr>\n",
       "    <tr>\n",
       "        <td>Medal</td>\n",
       "        <td>TEXT</td>\n",
       "        <td>4</td>\n",
       "    </tr>\n",
       "</table>"
      ],
      "text/plain": [
       "[('ID', 'INTEGER', 7),\n",
       " ('Name', 'TEXT', 4),\n",
       " ('Sex', 'TEXT', 4),\n",
       " ('Age', 'REAL', 4),\n",
       " ('Height', 'REAL', 4),\n",
       " ('Weight', 'REAL', 4),\n",
       " ('Team', 'TEXT', 4),\n",
       " ('NOC', 'TEXT', 4),\n",
       " ('Games', 'TEXT', 4),\n",
       " ('Year', 'INTEGER', 7),\n",
       " ('Season', 'TEXT', 4),\n",
       " ('City', 'TEXT', 4),\n",
       " ('Sport', 'TEXT', 4),\n",
       " ('Event', 'TEXT', 4),\n",
       " ('Medal', 'TEXT', 4)]"
      ]
     },
     "execution_count": 106,
     "metadata": {},
     "output_type": "execute_result"
    }
   ],
   "source": [
    "%sql SELECT name,type,length(type) FROM PRAGMA_TABLE_INFO('Olympics');"
   ]
  },
  {
   "cell_type": "code",
   "execution_count": 107,
   "id": "feec34b1",
   "metadata": {},
   "outputs": [
    {
     "name": "stdout",
     "output_type": "stream",
     "text": [
      " * sqlite:///Olympics.db\n",
      "Done.\n"
     ]
    },
    {
     "data": {
      "text/html": [
       "<table>\n",
       "    <tr>\n",
       "        <th>ID</th>\n",
       "        <th>Name</th>\n",
       "        <th>Sex</th>\n",
       "        <th>Age</th>\n",
       "        <th>Height</th>\n",
       "        <th>Weight</th>\n",
       "        <th>Team</th>\n",
       "        <th>NOC</th>\n",
       "        <th>Games</th>\n",
       "        <th>Year</th>\n",
       "        <th>Season</th>\n",
       "        <th>City</th>\n",
       "        <th>Sport</th>\n",
       "        <th>Event</th>\n",
       "        <th>Medal</th>\n",
       "    </tr>\n",
       "    <tr>\n",
       "        <td>1</td>\n",
       "        <td>A Dijiang</td>\n",
       "        <td>M</td>\n",
       "        <td>24.0</td>\n",
       "        <td>180.0</td>\n",
       "        <td>80.0</td>\n",
       "        <td>China</td>\n",
       "        <td>CHN</td>\n",
       "        <td>1992 Summer</td>\n",
       "        <td>1992</td>\n",
       "        <td>Summer</td>\n",
       "        <td>Barcelona</td>\n",
       "        <td>Basketball</td>\n",
       "        <td>Basketball Men&#x27;s Basketball</td>\n",
       "        <td>None</td>\n",
       "    </tr>\n",
       "    <tr>\n",
       "        <td>2</td>\n",
       "        <td>A Lamusi</td>\n",
       "        <td>M</td>\n",
       "        <td>23.0</td>\n",
       "        <td>170.0</td>\n",
       "        <td>60.0</td>\n",
       "        <td>China</td>\n",
       "        <td>CHN</td>\n",
       "        <td>2012 Summer</td>\n",
       "        <td>2012</td>\n",
       "        <td>Summer</td>\n",
       "        <td>London</td>\n",
       "        <td>Judo</td>\n",
       "        <td>Judo Men&#x27;s Extra-Lightweight</td>\n",
       "        <td>None</td>\n",
       "    </tr>\n",
       "    <tr>\n",
       "        <td>3</td>\n",
       "        <td>Gunnar Nielsen Aaby</td>\n",
       "        <td>M</td>\n",
       "        <td>24.0</td>\n",
       "        <td>None</td>\n",
       "        <td>None</td>\n",
       "        <td>Denmark</td>\n",
       "        <td>DEN</td>\n",
       "        <td>1920 Summer</td>\n",
       "        <td>1920</td>\n",
       "        <td>Summer</td>\n",
       "        <td>Antwerpen</td>\n",
       "        <td>Football</td>\n",
       "        <td>Football Men&#x27;s Football</td>\n",
       "        <td>None</td>\n",
       "    </tr>\n",
       "    <tr>\n",
       "        <td>4</td>\n",
       "        <td>Edgar Lindenau Aabye</td>\n",
       "        <td>M</td>\n",
       "        <td>34.0</td>\n",
       "        <td>None</td>\n",
       "        <td>None</td>\n",
       "        <td>Denmark/Sweden</td>\n",
       "        <td>DEN</td>\n",
       "        <td>1900 Summer</td>\n",
       "        <td>1900</td>\n",
       "        <td>Summer</td>\n",
       "        <td>Paris</td>\n",
       "        <td>Tug-Of-War</td>\n",
       "        <td>Tug-Of-War Men&#x27;s Tug-Of-War</td>\n",
       "        <td>Gold</td>\n",
       "    </tr>\n",
       "    <tr>\n",
       "        <td>5</td>\n",
       "        <td>Christine Jacoba Aaftink</td>\n",
       "        <td>F</td>\n",
       "        <td>21.0</td>\n",
       "        <td>185.0</td>\n",
       "        <td>82.0</td>\n",
       "        <td>Netherlands</td>\n",
       "        <td>NED</td>\n",
       "        <td>1988 Winter</td>\n",
       "        <td>1988</td>\n",
       "        <td>Winter</td>\n",
       "        <td>Calgary</td>\n",
       "        <td>Speed Skating</td>\n",
       "        <td>Speed Skating Women&#x27;s 500 metres</td>\n",
       "        <td>None</td>\n",
       "    </tr>\n",
       "</table>"
      ],
      "text/plain": [
       "[(1, 'A Dijiang', 'M', 24.0, 180.0, 80.0, 'China', 'CHN', '1992 Summer', 1992, 'Summer', 'Barcelona', 'Basketball', \"Basketball Men's Basketball\", None),\n",
       " (2, 'A Lamusi', 'M', 23.0, 170.0, 60.0, 'China', 'CHN', '2012 Summer', 2012, 'Summer', 'London', 'Judo', \"Judo Men's Extra-Lightweight\", None),\n",
       " (3, 'Gunnar Nielsen Aaby', 'M', 24.0, None, None, 'Denmark', 'DEN', '1920 Summer', 1920, 'Summer', 'Antwerpen', 'Football', \"Football Men's Football\", None),\n",
       " (4, 'Edgar Lindenau Aabye', 'M', 34.0, None, None, 'Denmark/Sweden', 'DEN', '1900 Summer', 1900, 'Summer', 'Paris', 'Tug-Of-War', \"Tug-Of-War Men's Tug-Of-War\", 'Gold'),\n",
       " (5, 'Christine Jacoba Aaftink', 'F', 21.0, 185.0, 82.0, 'Netherlands', 'NED', '1988 Winter', 1988, 'Winter', 'Calgary', 'Speed Skating', \"Speed Skating Women's 500 metres\", None)]"
      ]
     },
     "execution_count": 107,
     "metadata": {},
     "output_type": "execute_result"
    }
   ],
   "source": [
    "%sql SELECT * FROM Olympics LIMIT 5;"
   ]
  },
  {
   "cell_type": "code",
   "execution_count": 161,
   "id": "10a7a157",
   "metadata": {},
   "outputs": [],
   "source": [
    "olympics_all=pd.read_sql_query(\"SELECT * FROM Olympics LEFT JOIN NOC ON Olympics.NOC= NOC.NOC;\", conn)"
   ]
  },
  {
   "cell_type": "code",
   "execution_count": 163,
   "id": "0aaa4e96",
   "metadata": {},
   "outputs": [],
   "source": [
    "olympics_all.rename(columns = {'region':'Country'}, inplace = True)"
   ]
  },
  {
   "cell_type": "code",
   "execution_count": 164,
   "id": "3aee76e5",
   "metadata": {},
   "outputs": [
    {
     "data": {
      "text/html": [
       "<div>\n",
       "<style scoped>\n",
       "    .dataframe tbody tr th:only-of-type {\n",
       "        vertical-align: middle;\n",
       "    }\n",
       "\n",
       "    .dataframe tbody tr th {\n",
       "        vertical-align: top;\n",
       "    }\n",
       "\n",
       "    .dataframe thead th {\n",
       "        text-align: right;\n",
       "    }\n",
       "</style>\n",
       "<table border=\"1\" class=\"dataframe\">\n",
       "  <thead>\n",
       "    <tr style=\"text-align: right;\">\n",
       "      <th></th>\n",
       "      <th>ID</th>\n",
       "      <th>Name</th>\n",
       "      <th>Sex</th>\n",
       "      <th>Age</th>\n",
       "      <th>Height</th>\n",
       "      <th>Weight</th>\n",
       "      <th>Team</th>\n",
       "      <th>NOC</th>\n",
       "      <th>Games</th>\n",
       "      <th>Year</th>\n",
       "      <th>Season</th>\n",
       "      <th>City</th>\n",
       "      <th>Sport</th>\n",
       "      <th>Event</th>\n",
       "      <th>Medal</th>\n",
       "      <th>NOC</th>\n",
       "      <th>Country</th>\n",
       "      <th>notes</th>\n",
       "    </tr>\n",
       "  </thead>\n",
       "  <tbody>\n",
       "    <tr>\n",
       "      <th>6267</th>\n",
       "      <td>3515</td>\n",
       "      <td>Paulo Amotun Lokoro</td>\n",
       "      <td>M</td>\n",
       "      <td>24.0</td>\n",
       "      <td>170.0</td>\n",
       "      <td>61.0</td>\n",
       "      <td>Refugee Olympic Athletes</td>\n",
       "      <td>ROT</td>\n",
       "      <td>2016 Summer</td>\n",
       "      <td>2016</td>\n",
       "      <td>Summer</td>\n",
       "      <td>Rio de Janeiro</td>\n",
       "      <td>Athletics</td>\n",
       "      <td>Athletics Men's 1,500 metres</td>\n",
       "      <td>None</td>\n",
       "      <td>ROT</td>\n",
       "      <td>None</td>\n",
       "      <td>Refugee Olympic Team</td>\n",
       "    </tr>\n",
       "    <tr>\n",
       "      <th>7909</th>\n",
       "      <td>4379</td>\n",
       "      <td>Rami Anis</td>\n",
       "      <td>M</td>\n",
       "      <td>25.0</td>\n",
       "      <td>178.0</td>\n",
       "      <td>78.0</td>\n",
       "      <td>Refugee Olympic Athletes</td>\n",
       "      <td>ROT</td>\n",
       "      <td>2016 Summer</td>\n",
       "      <td>2016</td>\n",
       "      <td>Summer</td>\n",
       "      <td>Rio de Janeiro</td>\n",
       "      <td>Swimming</td>\n",
       "      <td>Swimming Men's 100 metres Freestyle</td>\n",
       "      <td>None</td>\n",
       "      <td>ROT</td>\n",
       "      <td>None</td>\n",
       "      <td>Refugee Olympic Team</td>\n",
       "    </tr>\n",
       "    <tr>\n",
       "      <th>7911</th>\n",
       "      <td>4379</td>\n",
       "      <td>Rami Anis</td>\n",
       "      <td>M</td>\n",
       "      <td>25.0</td>\n",
       "      <td>178.0</td>\n",
       "      <td>78.0</td>\n",
       "      <td>Refugee Olympic Athletes</td>\n",
       "      <td>ROT</td>\n",
       "      <td>2016 Summer</td>\n",
       "      <td>2016</td>\n",
       "      <td>Summer</td>\n",
       "      <td>Rio de Janeiro</td>\n",
       "      <td>Swimming</td>\n",
       "      <td>Swimming Men's 100 metres Butterfly</td>\n",
       "      <td>None</td>\n",
       "      <td>ROT</td>\n",
       "      <td>None</td>\n",
       "      <td>Refugee Olympic Team</td>\n",
       "    </tr>\n",
       "    <tr>\n",
       "      <th>21532</th>\n",
       "      <td>11364</td>\n",
       "      <td>Yiech Pur Biel</td>\n",
       "      <td>M</td>\n",
       "      <td>21.0</td>\n",
       "      <td>178.0</td>\n",
       "      <td>62.0</td>\n",
       "      <td>Refugee Olympic Athletes</td>\n",
       "      <td>ROT</td>\n",
       "      <td>2016 Summer</td>\n",
       "      <td>2016</td>\n",
       "      <td>Summer</td>\n",
       "      <td>Rio de Janeiro</td>\n",
       "      <td>Athletics</td>\n",
       "      <td>Athletics Men's 800 metres</td>\n",
       "      <td>None</td>\n",
       "      <td>ROT</td>\n",
       "      <td>None</td>\n",
       "      <td>Refugee Olympic Team</td>\n",
       "    </tr>\n",
       "    <tr>\n",
       "      <th>31712</th>\n",
       "      <td>16287</td>\n",
       "      <td>Mabika Yolande Bukasa</td>\n",
       "      <td>F</td>\n",
       "      <td>28.0</td>\n",
       "      <td>170.0</td>\n",
       "      <td>70.0</td>\n",
       "      <td>Refugee Olympic Athletes</td>\n",
       "      <td>ROT</td>\n",
       "      <td>2016 Summer</td>\n",
       "      <td>2016</td>\n",
       "      <td>Summer</td>\n",
       "      <td>Rio de Janeiro</td>\n",
       "      <td>Judo</td>\n",
       "      <td>Judo Women's Middleweight</td>\n",
       "      <td>None</td>\n",
       "      <td>ROT</td>\n",
       "      <td>None</td>\n",
       "      <td>Refugee Olympic Team</td>\n",
       "    </tr>\n",
       "    <tr>\n",
       "      <th>40243</th>\n",
       "      <td>20693</td>\n",
       "      <td>James Nyang Chiengjiek</td>\n",
       "      <td>M</td>\n",
       "      <td>24.0</td>\n",
       "      <td>179.0</td>\n",
       "      <td>59.0</td>\n",
       "      <td>Refugee Olympic Athletes</td>\n",
       "      <td>ROT</td>\n",
       "      <td>2016 Summer</td>\n",
       "      <td>2016</td>\n",
       "      <td>Summer</td>\n",
       "      <td>Rio de Janeiro</td>\n",
       "      <td>Athletics</td>\n",
       "      <td>Athletics Men's 400 metres</td>\n",
       "      <td>None</td>\n",
       "      <td>ROT</td>\n",
       "      <td>None</td>\n",
       "      <td>Refugee Olympic Team</td>\n",
       "    </tr>\n",
       "    <tr>\n",
       "      <th>61086</th>\n",
       "      <td>31292</td>\n",
       "      <td>Fritz Eccard</td>\n",
       "      <td>M</td>\n",
       "      <td>NaN</td>\n",
       "      <td>NaN</td>\n",
       "      <td>NaN</td>\n",
       "      <td>Unknown</td>\n",
       "      <td>UNK</td>\n",
       "      <td>1912 Summer</td>\n",
       "      <td>1912</td>\n",
       "      <td>Summer</td>\n",
       "      <td>Stockholm</td>\n",
       "      <td>Art Competitions</td>\n",
       "      <td>Art Competitions Mixed Architecture</td>\n",
       "      <td>None</td>\n",
       "      <td>UNK</td>\n",
       "      <td>None</td>\n",
       "      <td>Unknown</td>\n",
       "    </tr>\n",
       "    <tr>\n",
       "      <th>64681</th>\n",
       "      <td>33094</td>\n",
       "      <td>Logona Esau</td>\n",
       "      <td>M</td>\n",
       "      <td>21.0</td>\n",
       "      <td>163.0</td>\n",
       "      <td>69.0</td>\n",
       "      <td>Tuvalu</td>\n",
       "      <td>TUV</td>\n",
       "      <td>2008 Summer</td>\n",
       "      <td>2008</td>\n",
       "      <td>Summer</td>\n",
       "      <td>Beijing</td>\n",
       "      <td>Weightlifting</td>\n",
       "      <td>Weightlifting Men's Lightweight</td>\n",
       "      <td>None</td>\n",
       "      <td>TUV</td>\n",
       "      <td>None</td>\n",
       "      <td>Tuvalu</td>\n",
       "    </tr>\n",
       "    <tr>\n",
       "      <th>119400</th>\n",
       "      <td>60444</td>\n",
       "      <td>Yonas Kinde</td>\n",
       "      <td>M</td>\n",
       "      <td>36.0</td>\n",
       "      <td>172.0</td>\n",
       "      <td>57.0</td>\n",
       "      <td>Refugee Olympic Athletes</td>\n",
       "      <td>ROT</td>\n",
       "      <td>2016 Summer</td>\n",
       "      <td>2016</td>\n",
       "      <td>Summer</td>\n",
       "      <td>Rio de Janeiro</td>\n",
       "      <td>Athletics</td>\n",
       "      <td>Athletics Men's Marathon</td>\n",
       "      <td>None</td>\n",
       "      <td>ROT</td>\n",
       "      <td>None</td>\n",
       "      <td>Refugee Olympic Team</td>\n",
       "    </tr>\n",
       "    <tr>\n",
       "      <th>130730</th>\n",
       "      <td>65813</td>\n",
       "      <td>A. Laffen</td>\n",
       "      <td>M</td>\n",
       "      <td>NaN</td>\n",
       "      <td>NaN</td>\n",
       "      <td>NaN</td>\n",
       "      <td>Unknown</td>\n",
       "      <td>UNK</td>\n",
       "      <td>1912 Summer</td>\n",
       "      <td>1912</td>\n",
       "      <td>Summer</td>\n",
       "      <td>Stockholm</td>\n",
       "      <td>Art Competitions</td>\n",
       "      <td>Art Competitions Mixed Architecture</td>\n",
       "      <td>None</td>\n",
       "      <td>UNK</td>\n",
       "      <td>None</td>\n",
       "      <td>Unknown</td>\n",
       "    </tr>\n",
       "    <tr>\n",
       "      <th>132446</th>\n",
       "      <td>66655</td>\n",
       "      <td>Tuau Lapua Lapua</td>\n",
       "      <td>M</td>\n",
       "      <td>21.0</td>\n",
       "      <td>140.0</td>\n",
       "      <td>62.0</td>\n",
       "      <td>Tuvalu</td>\n",
       "      <td>TUV</td>\n",
       "      <td>2012 Summer</td>\n",
       "      <td>2012</td>\n",
       "      <td>Summer</td>\n",
       "      <td>London</td>\n",
       "      <td>Weightlifting</td>\n",
       "      <td>Weightlifting Men's Featherweight</td>\n",
       "      <td>None</td>\n",
       "      <td>TUV</td>\n",
       "      <td>None</td>\n",
       "      <td>Tuvalu</td>\n",
       "    </tr>\n",
       "    <tr>\n",
       "      <th>141680</th>\n",
       "      <td>71067</td>\n",
       "      <td>Anjelina Nadai Lohalith</td>\n",
       "      <td>F</td>\n",
       "      <td>23.0</td>\n",
       "      <td>163.0</td>\n",
       "      <td>50.0</td>\n",
       "      <td>Refugee Olympic Athletes</td>\n",
       "      <td>ROT</td>\n",
       "      <td>2016 Summer</td>\n",
       "      <td>2016</td>\n",
       "      <td>Summer</td>\n",
       "      <td>Rio de Janeiro</td>\n",
       "      <td>Athletics</td>\n",
       "      <td>Athletics Women's 1,500 metres</td>\n",
       "      <td>None</td>\n",
       "      <td>ROT</td>\n",
       "      <td>None</td>\n",
       "      <td>Refugee Olympic Team</td>\n",
       "    </tr>\n",
       "    <tr>\n",
       "      <th>141765</th>\n",
       "      <td>71113</td>\n",
       "      <td>Rose Nathike Lokonyen</td>\n",
       "      <td>F</td>\n",
       "      <td>21.0</td>\n",
       "      <td>157.0</td>\n",
       "      <td>50.0</td>\n",
       "      <td>Refugee Olympic Athletes</td>\n",
       "      <td>ROT</td>\n",
       "      <td>2016 Summer</td>\n",
       "      <td>2016</td>\n",
       "      <td>Summer</td>\n",
       "      <td>Rio de Janeiro</td>\n",
       "      <td>Athletics</td>\n",
       "      <td>Athletics Women's 800 metres</td>\n",
       "      <td>None</td>\n",
       "      <td>ROT</td>\n",
       "      <td>None</td>\n",
       "      <td>Refugee Olympic Team</td>\n",
       "    </tr>\n",
       "    <tr>\n",
       "      <th>148625</th>\n",
       "      <td>74540</td>\n",
       "      <td>Asenate Manoa</td>\n",
       "      <td>F</td>\n",
       "      <td>16.0</td>\n",
       "      <td>NaN</td>\n",
       "      <td>46.0</td>\n",
       "      <td>Tuvalu</td>\n",
       "      <td>TUV</td>\n",
       "      <td>2008 Summer</td>\n",
       "      <td>2008</td>\n",
       "      <td>Summer</td>\n",
       "      <td>Beijing</td>\n",
       "      <td>Athletics</td>\n",
       "      <td>Athletics Women's 100 metres</td>\n",
       "      <td>None</td>\n",
       "      <td>TUV</td>\n",
       "      <td>None</td>\n",
       "      <td>Tuvalu</td>\n",
       "    </tr>\n",
       "    <tr>\n",
       "      <th>148627</th>\n",
       "      <td>74540</td>\n",
       "      <td>Asenate Manoa</td>\n",
       "      <td>F</td>\n",
       "      <td>20.0</td>\n",
       "      <td>NaN</td>\n",
       "      <td>46.0</td>\n",
       "      <td>Tuvalu</td>\n",
       "      <td>TUV</td>\n",
       "      <td>2012 Summer</td>\n",
       "      <td>2012</td>\n",
       "      <td>Summer</td>\n",
       "      <td>London</td>\n",
       "      <td>Athletics</td>\n",
       "      <td>Athletics Women's 100 metres</td>\n",
       "      <td>None</td>\n",
       "      <td>TUV</td>\n",
       "      <td>None</td>\n",
       "      <td>Tuvalu</td>\n",
       "    </tr>\n",
       "    <tr>\n",
       "      <th>149321</th>\n",
       "      <td>74902</td>\n",
       "      <td>Yusra Mardini</td>\n",
       "      <td>F</td>\n",
       "      <td>18.0</td>\n",
       "      <td>157.0</td>\n",
       "      <td>53.0</td>\n",
       "      <td>Refugee Olympic Athletes</td>\n",
       "      <td>ROT</td>\n",
       "      <td>2016 Summer</td>\n",
       "      <td>2016</td>\n",
       "      <td>Summer</td>\n",
       "      <td>Rio de Janeiro</td>\n",
       "      <td>Swimming</td>\n",
       "      <td>Swimming Women's 100 metres Freestyle</td>\n",
       "      <td>None</td>\n",
       "      <td>ROT</td>\n",
       "      <td>None</td>\n",
       "      <td>Refugee Olympic Team</td>\n",
       "    </tr>\n",
       "    <tr>\n",
       "      <th>149323</th>\n",
       "      <td>74902</td>\n",
       "      <td>Yusra Mardini</td>\n",
       "      <td>F</td>\n",
       "      <td>18.0</td>\n",
       "      <td>157.0</td>\n",
       "      <td>53.0</td>\n",
       "      <td>Refugee Olympic Athletes</td>\n",
       "      <td>ROT</td>\n",
       "      <td>2016 Summer</td>\n",
       "      <td>2016</td>\n",
       "      <td>Summer</td>\n",
       "      <td>Rio de Janeiro</td>\n",
       "      <td>Swimming</td>\n",
       "      <td>Swimming Women's 100 metres Butterfly</td>\n",
       "      <td>None</td>\n",
       "      <td>ROT</td>\n",
       "      <td>None</td>\n",
       "      <td>Refugee Olympic Team</td>\n",
       "    </tr>\n",
       "    <tr>\n",
       "      <th>160086</th>\n",
       "      <td>80325</td>\n",
       "      <td>Popole Misenga</td>\n",
       "      <td>M</td>\n",
       "      <td>24.0</td>\n",
       "      <td>180.0</td>\n",
       "      <td>90.0</td>\n",
       "      <td>Refugee Olympic Athletes</td>\n",
       "      <td>ROT</td>\n",
       "      <td>2016 Summer</td>\n",
       "      <td>2016</td>\n",
       "      <td>Summer</td>\n",
       "      <td>Rio de Janeiro</td>\n",
       "      <td>Judo</td>\n",
       "      <td>Judo Men's Middleweight</td>\n",
       "      <td>None</td>\n",
       "      <td>ROT</td>\n",
       "      <td>None</td>\n",
       "      <td>Refugee Olympic Team</td>\n",
       "    </tr>\n",
       "    <tr>\n",
       "      <th>172510</th>\n",
       "      <td>86663</td>\n",
       "      <td>Tavevele Noa</td>\n",
       "      <td>M</td>\n",
       "      <td>20.0</td>\n",
       "      <td>176.0</td>\n",
       "      <td>74.0</td>\n",
       "      <td>Tuvalu</td>\n",
       "      <td>TUV</td>\n",
       "      <td>2012 Summer</td>\n",
       "      <td>2012</td>\n",
       "      <td>Summer</td>\n",
       "      <td>London</td>\n",
       "      <td>Athletics</td>\n",
       "      <td>Athletics Men's 100 metres</td>\n",
       "      <td>None</td>\n",
       "      <td>TUV</td>\n",
       "      <td>None</td>\n",
       "      <td>Tuvalu</td>\n",
       "    </tr>\n",
       "    <tr>\n",
       "      <th>240336</th>\n",
       "      <td>120422</td>\n",
       "      <td>Etimoni Timuani</td>\n",
       "      <td>M</td>\n",
       "      <td>24.0</td>\n",
       "      <td>184.0</td>\n",
       "      <td>72.0</td>\n",
       "      <td>Tuvalu</td>\n",
       "      <td>TUV</td>\n",
       "      <td>2016 Summer</td>\n",
       "      <td>2016</td>\n",
       "      <td>Summer</td>\n",
       "      <td>Rio de Janeiro</td>\n",
       "      <td>Athletics</td>\n",
       "      <td>Athletics Men's 100 metres</td>\n",
       "      <td>None</td>\n",
       "      <td>TUV</td>\n",
       "      <td>None</td>\n",
       "      <td>Tuvalu</td>\n",
       "    </tr>\n",
       "    <tr>\n",
       "      <th>240362</th>\n",
       "      <td>120439</td>\n",
       "      <td>Okilani Tinilau</td>\n",
       "      <td>M</td>\n",
       "      <td>19.0</td>\n",
       "      <td>NaN</td>\n",
       "      <td>NaN</td>\n",
       "      <td>Tuvalu</td>\n",
       "      <td>TUV</td>\n",
       "      <td>2008 Summer</td>\n",
       "      <td>2008</td>\n",
       "      <td>Summer</td>\n",
       "      <td>Beijing</td>\n",
       "      <td>Athletics</td>\n",
       "      <td>Athletics Men's 100 metres</td>\n",
       "      <td>None</td>\n",
       "      <td>TUV</td>\n",
       "      <td>None</td>\n",
       "      <td>Tuvalu</td>\n",
       "    </tr>\n",
       "  </tbody>\n",
       "</table>\n",
       "</div>"
      ],
      "text/plain": [
       "            ID                     Name Sex   Age  Height  Weight  \\\n",
       "6267      3515      Paulo Amotun Lokoro   M  24.0   170.0    61.0   \n",
       "7909      4379                Rami Anis   M  25.0   178.0    78.0   \n",
       "7911      4379                Rami Anis   M  25.0   178.0    78.0   \n",
       "21532    11364           Yiech Pur Biel   M  21.0   178.0    62.0   \n",
       "31712    16287    Mabika Yolande Bukasa   F  28.0   170.0    70.0   \n",
       "40243    20693   James Nyang Chiengjiek   M  24.0   179.0    59.0   \n",
       "61086    31292             Fritz Eccard   M   NaN     NaN     NaN   \n",
       "64681    33094              Logona Esau   M  21.0   163.0    69.0   \n",
       "119400   60444              Yonas Kinde   M  36.0   172.0    57.0   \n",
       "130730   65813                A. Laffen   M   NaN     NaN     NaN   \n",
       "132446   66655         Tuau Lapua Lapua   M  21.0   140.0    62.0   \n",
       "141680   71067  Anjelina Nadai Lohalith   F  23.0   163.0    50.0   \n",
       "141765   71113    Rose Nathike Lokonyen   F  21.0   157.0    50.0   \n",
       "148625   74540            Asenate Manoa   F  16.0     NaN    46.0   \n",
       "148627   74540            Asenate Manoa   F  20.0     NaN    46.0   \n",
       "149321   74902            Yusra Mardini   F  18.0   157.0    53.0   \n",
       "149323   74902            Yusra Mardini   F  18.0   157.0    53.0   \n",
       "160086   80325           Popole Misenga   M  24.0   180.0    90.0   \n",
       "172510   86663             Tavevele Noa   M  20.0   176.0    74.0   \n",
       "240336  120422          Etimoni Timuani   M  24.0   184.0    72.0   \n",
       "240362  120439          Okilani Tinilau   M  19.0     NaN     NaN   \n",
       "\n",
       "                            Team  NOC        Games  Year  Season  \\\n",
       "6267    Refugee Olympic Athletes  ROT  2016 Summer  2016  Summer   \n",
       "7909    Refugee Olympic Athletes  ROT  2016 Summer  2016  Summer   \n",
       "7911    Refugee Olympic Athletes  ROT  2016 Summer  2016  Summer   \n",
       "21532   Refugee Olympic Athletes  ROT  2016 Summer  2016  Summer   \n",
       "31712   Refugee Olympic Athletes  ROT  2016 Summer  2016  Summer   \n",
       "40243   Refugee Olympic Athletes  ROT  2016 Summer  2016  Summer   \n",
       "61086                    Unknown  UNK  1912 Summer  1912  Summer   \n",
       "64681                     Tuvalu  TUV  2008 Summer  2008  Summer   \n",
       "119400  Refugee Olympic Athletes  ROT  2016 Summer  2016  Summer   \n",
       "130730                   Unknown  UNK  1912 Summer  1912  Summer   \n",
       "132446                    Tuvalu  TUV  2012 Summer  2012  Summer   \n",
       "141680  Refugee Olympic Athletes  ROT  2016 Summer  2016  Summer   \n",
       "141765  Refugee Olympic Athletes  ROT  2016 Summer  2016  Summer   \n",
       "148625                    Tuvalu  TUV  2008 Summer  2008  Summer   \n",
       "148627                    Tuvalu  TUV  2012 Summer  2012  Summer   \n",
       "149321  Refugee Olympic Athletes  ROT  2016 Summer  2016  Summer   \n",
       "149323  Refugee Olympic Athletes  ROT  2016 Summer  2016  Summer   \n",
       "160086  Refugee Olympic Athletes  ROT  2016 Summer  2016  Summer   \n",
       "172510                    Tuvalu  TUV  2012 Summer  2012  Summer   \n",
       "240336                    Tuvalu  TUV  2016 Summer  2016  Summer   \n",
       "240362                    Tuvalu  TUV  2008 Summer  2008  Summer   \n",
       "\n",
       "                  City             Sport  \\\n",
       "6267    Rio de Janeiro         Athletics   \n",
       "7909    Rio de Janeiro          Swimming   \n",
       "7911    Rio de Janeiro          Swimming   \n",
       "21532   Rio de Janeiro         Athletics   \n",
       "31712   Rio de Janeiro              Judo   \n",
       "40243   Rio de Janeiro         Athletics   \n",
       "61086        Stockholm  Art Competitions   \n",
       "64681          Beijing     Weightlifting   \n",
       "119400  Rio de Janeiro         Athletics   \n",
       "130730       Stockholm  Art Competitions   \n",
       "132446          London     Weightlifting   \n",
       "141680  Rio de Janeiro         Athletics   \n",
       "141765  Rio de Janeiro         Athletics   \n",
       "148625         Beijing         Athletics   \n",
       "148627          London         Athletics   \n",
       "149321  Rio de Janeiro          Swimming   \n",
       "149323  Rio de Janeiro          Swimming   \n",
       "160086  Rio de Janeiro              Judo   \n",
       "172510          London         Athletics   \n",
       "240336  Rio de Janeiro         Athletics   \n",
       "240362         Beijing         Athletics   \n",
       "\n",
       "                                        Event Medal  NOC Country  \\\n",
       "6267             Athletics Men's 1,500 metres  None  ROT    None   \n",
       "7909      Swimming Men's 100 metres Freestyle  None  ROT    None   \n",
       "7911      Swimming Men's 100 metres Butterfly  None  ROT    None   \n",
       "21532              Athletics Men's 800 metres  None  ROT    None   \n",
       "31712               Judo Women's Middleweight  None  ROT    None   \n",
       "40243              Athletics Men's 400 metres  None  ROT    None   \n",
       "61086     Art Competitions Mixed Architecture  None  UNK    None   \n",
       "64681         Weightlifting Men's Lightweight  None  TUV    None   \n",
       "119400               Athletics Men's Marathon  None  ROT    None   \n",
       "130730    Art Competitions Mixed Architecture  None  UNK    None   \n",
       "132446      Weightlifting Men's Featherweight  None  TUV    None   \n",
       "141680         Athletics Women's 1,500 metres  None  ROT    None   \n",
       "141765           Athletics Women's 800 metres  None  ROT    None   \n",
       "148625           Athletics Women's 100 metres  None  TUV    None   \n",
       "148627           Athletics Women's 100 metres  None  TUV    None   \n",
       "149321  Swimming Women's 100 metres Freestyle  None  ROT    None   \n",
       "149323  Swimming Women's 100 metres Butterfly  None  ROT    None   \n",
       "160086                Judo Men's Middleweight  None  ROT    None   \n",
       "172510             Athletics Men's 100 metres  None  TUV    None   \n",
       "240336             Athletics Men's 100 metres  None  TUV    None   \n",
       "240362             Athletics Men's 100 metres  None  TUV    None   \n",
       "\n",
       "                       notes  \n",
       "6267    Refugee Olympic Team  \n",
       "7909    Refugee Olympic Team  \n",
       "7911    Refugee Olympic Team  \n",
       "21532   Refugee Olympic Team  \n",
       "31712   Refugee Olympic Team  \n",
       "40243   Refugee Olympic Team  \n",
       "61086                Unknown  \n",
       "64681                 Tuvalu  \n",
       "119400  Refugee Olympic Team  \n",
       "130730               Unknown  \n",
       "132446                Tuvalu  \n",
       "141680  Refugee Olympic Team  \n",
       "141765  Refugee Olympic Team  \n",
       "148625                Tuvalu  \n",
       "148627                Tuvalu  \n",
       "149321  Refugee Olympic Team  \n",
       "149323  Refugee Olympic Team  \n",
       "160086  Refugee Olympic Team  \n",
       "172510                Tuvalu  \n",
       "240336                Tuvalu  \n",
       "240362                Tuvalu  "
      ]
     },
     "execution_count": 164,
     "metadata": {},
     "output_type": "execute_result"
    }
   ],
   "source": [
    "olympics_all[olympics_all['Country'].isnull()]\n",
    "#noc_add = pd.DataFrame([['SGP', 'Singapore', None], ['ROT', 'Refugee Olympic Team', None], ['TUV', 'Tuvalu', None], ['UNK', 'Unknown', None], ['EOR', 'Refugee Olympic Team', None]], columns=['NOC', 'region', 'notes'])"
   ]
  },
  {
   "cell_type": "code",
   "execution_count": 97,
   "id": "465ea6ca",
   "metadata": {},
   "outputs": [],
   "source": [
    "#olympics[olympics[\"region\"].isnull()]['region'] =olympics[olympics[\"region\"].isnull()]['notes']\n",
    "\n",
    "#olympics.loc[olympics[\"region\"].isnull(), ['region']]=olympics.loc[olympics[\"region\"].isnull(), ['notes']]\n",
    "\n",
    "#df['First Season'] = np.where(df['First Season'] > 1990, 1, df['First Season'])\n",
    "olympics_all[\"region\"]=np.where(olympics_merge[\"region\"].isnull(), olympics_merge[\"notes\"],olympics_merge[\"region\"])"
   ]
  },
  {
   "cell_type": "code",
   "execution_count": 182,
   "id": "74d8dc2c",
   "metadata": {},
   "outputs": [
    {
     "name": "stdout",
     "output_type": "stream",
     "text": [
      " * sqlite:///Olympics.db\n",
      "Done.\n"
     ]
    },
    {
     "data": {
      "text/html": [
       "<table>\n",
       "    <tr>\n",
       "        <th>NOC</th>\n",
       "        <th>region</th>\n",
       "        <th>notes</th>\n",
       "    </tr>\n",
       "    <tr>\n",
       "        <td>USA</td>\n",
       "        <td>USA</td>\n",
       "        <td>None</td>\n",
       "    </tr>\n",
       "</table>"
      ],
      "text/plain": [
       "[('USA', 'USA', None)]"
      ]
     },
     "execution_count": 182,
     "metadata": {},
     "output_type": "execute_result"
    }
   ],
   "source": [
    "%sql select * from NOC WHERE NOC ='USA' ;"
   ]
  },
  {
   "cell_type": "code",
   "execution_count": 154,
   "id": "f5801f29",
   "metadata": {},
   "outputs": [
    {
     "name": "stdout",
     "output_type": "stream",
     "text": [
      " * sqlite:///Olympics.db\n",
      "Done.\n"
     ]
    }
   ],
   "source": [
    "y=%sql SELECT * FROM Olympics LEFT JOIN NOC ON Olympics.NOC= NOC.NOC;"
   ]
  },
  {
   "cell_type": "code",
   "execution_count": 155,
   "id": "3fd04e20",
   "metadata": {},
   "outputs": [
    {
     "data": {
      "text/plain": [
       "271137"
      ]
     },
     "execution_count": 155,
     "metadata": {},
     "output_type": "execute_result"
    }
   ],
   "source": [
    "len(y)"
   ]
  },
  {
   "cell_type": "code",
   "execution_count": 112,
   "id": "3a165a3f",
   "metadata": {},
   "outputs": [
    {
     "name": "stdout",
     "output_type": "stream",
     "text": [
      " * sqlite:///Olympics.db\n",
      "Done.\n"
     ]
    },
    {
     "data": {
      "text/html": [
       "<table>\n",
       "    <tr>\n",
       "        <th>ID</th>\n",
       "        <th>Name</th>\n",
       "        <th>Sex</th>\n",
       "        <th>Age</th>\n",
       "        <th>Height</th>\n",
       "        <th>Weight</th>\n",
       "        <th>Team</th>\n",
       "        <th>NOC</th>\n",
       "        <th>Games</th>\n",
       "        <th>Year</th>\n",
       "        <th>Season</th>\n",
       "        <th>City</th>\n",
       "        <th>Sport</th>\n",
       "        <th>Event</th>\n",
       "        <th>Medal</th>\n",
       "    </tr>\n",
       "    <tr>\n",
       "        <td>1</td>\n",
       "        <td>A Dijiang</td>\n",
       "        <td>M</td>\n",
       "        <td>24.0</td>\n",
       "        <td>180.0</td>\n",
       "        <td>80.0</td>\n",
       "        <td>China</td>\n",
       "        <td>CHN</td>\n",
       "        <td>1992 Summer</td>\n",
       "        <td>1992</td>\n",
       "        <td>Summer</td>\n",
       "        <td>Barcelona</td>\n",
       "        <td>Basketball</td>\n",
       "        <td>Basketball Men&#x27;s Basketball</td>\n",
       "        <td>None</td>\n",
       "    </tr>\n",
       "    <tr>\n",
       "        <td>2</td>\n",
       "        <td>A Lamusi</td>\n",
       "        <td>M</td>\n",
       "        <td>23.0</td>\n",
       "        <td>170.0</td>\n",
       "        <td>60.0</td>\n",
       "        <td>China</td>\n",
       "        <td>CHN</td>\n",
       "        <td>2012 Summer</td>\n",
       "        <td>2012</td>\n",
       "        <td>Summer</td>\n",
       "        <td>London</td>\n",
       "        <td>Judo</td>\n",
       "        <td>Judo Men&#x27;s Extra-Lightweight</td>\n",
       "        <td>None</td>\n",
       "    </tr>\n",
       "    <tr>\n",
       "        <td>3</td>\n",
       "        <td>Gunnar Nielsen Aaby</td>\n",
       "        <td>M</td>\n",
       "        <td>24.0</td>\n",
       "        <td>None</td>\n",
       "        <td>None</td>\n",
       "        <td>Denmark</td>\n",
       "        <td>DEN</td>\n",
       "        <td>1920 Summer</td>\n",
       "        <td>1920</td>\n",
       "        <td>Summer</td>\n",
       "        <td>Antwerpen</td>\n",
       "        <td>Football</td>\n",
       "        <td>Football Men&#x27;s Football</td>\n",
       "        <td>None</td>\n",
       "    </tr>\n",
       "    <tr>\n",
       "        <td>4</td>\n",
       "        <td>Edgar Lindenau Aabye</td>\n",
       "        <td>M</td>\n",
       "        <td>34.0</td>\n",
       "        <td>None</td>\n",
       "        <td>None</td>\n",
       "        <td>Denmark/Sweden</td>\n",
       "        <td>DEN</td>\n",
       "        <td>1900 Summer</td>\n",
       "        <td>1900</td>\n",
       "        <td>Summer</td>\n",
       "        <td>Paris</td>\n",
       "        <td>Tug-Of-War</td>\n",
       "        <td>Tug-Of-War Men&#x27;s Tug-Of-War</td>\n",
       "        <td>Gold</td>\n",
       "    </tr>\n",
       "    <tr>\n",
       "        <td>5</td>\n",
       "        <td>Christine Jacoba Aaftink</td>\n",
       "        <td>F</td>\n",
       "        <td>21.0</td>\n",
       "        <td>185.0</td>\n",
       "        <td>82.0</td>\n",
       "        <td>Netherlands</td>\n",
       "        <td>NED</td>\n",
       "        <td>1988 Winter</td>\n",
       "        <td>1988</td>\n",
       "        <td>Winter</td>\n",
       "        <td>Calgary</td>\n",
       "        <td>Speed Skating</td>\n",
       "        <td>Speed Skating Women&#x27;s 500 metres</td>\n",
       "        <td>None</td>\n",
       "    </tr>\n",
       "    <tr>\n",
       "        <td>5</td>\n",
       "        <td>Christine Jacoba Aaftink</td>\n",
       "        <td>F</td>\n",
       "        <td>21.0</td>\n",
       "        <td>185.0</td>\n",
       "        <td>82.0</td>\n",
       "        <td>Netherlands</td>\n",
       "        <td>NED</td>\n",
       "        <td>1988 Winter</td>\n",
       "        <td>1988</td>\n",
       "        <td>Winter</td>\n",
       "        <td>Calgary</td>\n",
       "        <td>Speed Skating</td>\n",
       "        <td>Speed Skating Women&#x27;s 1,000 metres</td>\n",
       "        <td>None</td>\n",
       "    </tr>\n",
       "    <tr>\n",
       "        <td>5</td>\n",
       "        <td>Christine Jacoba Aaftink</td>\n",
       "        <td>F</td>\n",
       "        <td>25.0</td>\n",
       "        <td>185.0</td>\n",
       "        <td>82.0</td>\n",
       "        <td>Netherlands</td>\n",
       "        <td>NED</td>\n",
       "        <td>1992 Winter</td>\n",
       "        <td>1992</td>\n",
       "        <td>Winter</td>\n",
       "        <td>Albertville</td>\n",
       "        <td>Speed Skating</td>\n",
       "        <td>Speed Skating Women&#x27;s 500 metres</td>\n",
       "        <td>None</td>\n",
       "    </tr>\n",
       "    <tr>\n",
       "        <td>5</td>\n",
       "        <td>Christine Jacoba Aaftink</td>\n",
       "        <td>F</td>\n",
       "        <td>25.0</td>\n",
       "        <td>185.0</td>\n",
       "        <td>82.0</td>\n",
       "        <td>Netherlands</td>\n",
       "        <td>NED</td>\n",
       "        <td>1992 Winter</td>\n",
       "        <td>1992</td>\n",
       "        <td>Winter</td>\n",
       "        <td>Albertville</td>\n",
       "        <td>Speed Skating</td>\n",
       "        <td>Speed Skating Women&#x27;s 1,000 metres</td>\n",
       "        <td>None</td>\n",
       "    </tr>\n",
       "    <tr>\n",
       "        <td>5</td>\n",
       "        <td>Christine Jacoba Aaftink</td>\n",
       "        <td>F</td>\n",
       "        <td>27.0</td>\n",
       "        <td>185.0</td>\n",
       "        <td>82.0</td>\n",
       "        <td>Netherlands</td>\n",
       "        <td>NED</td>\n",
       "        <td>1994 Winter</td>\n",
       "        <td>1994</td>\n",
       "        <td>Winter</td>\n",
       "        <td>Lillehammer</td>\n",
       "        <td>Speed Skating</td>\n",
       "        <td>Speed Skating Women&#x27;s 500 metres</td>\n",
       "        <td>None</td>\n",
       "    </tr>\n",
       "    <tr>\n",
       "        <td>5</td>\n",
       "        <td>Christine Jacoba Aaftink</td>\n",
       "        <td>F</td>\n",
       "        <td>27.0</td>\n",
       "        <td>185.0</td>\n",
       "        <td>82.0</td>\n",
       "        <td>Netherlands</td>\n",
       "        <td>NED</td>\n",
       "        <td>1994 Winter</td>\n",
       "        <td>1994</td>\n",
       "        <td>Winter</td>\n",
       "        <td>Lillehammer</td>\n",
       "        <td>Speed Skating</td>\n",
       "        <td>Speed Skating Women&#x27;s 1,000 metres</td>\n",
       "        <td>None</td>\n",
       "    </tr>\n",
       "    <tr>\n",
       "        <td>6</td>\n",
       "        <td>Per Knut Aaland</td>\n",
       "        <td>M</td>\n",
       "        <td>31.0</td>\n",
       "        <td>188.0</td>\n",
       "        <td>75.0</td>\n",
       "        <td>United States</td>\n",
       "        <td>USA</td>\n",
       "        <td>1992 Winter</td>\n",
       "        <td>1992</td>\n",
       "        <td>Winter</td>\n",
       "        <td>Albertville</td>\n",
       "        <td>Cross Country Skiing</td>\n",
       "        <td>Cross Country Skiing Men&#x27;s 10 kilometres</td>\n",
       "        <td>None</td>\n",
       "    </tr>\n",
       "    <tr>\n",
       "        <td>6</td>\n",
       "        <td>Per Knut Aaland</td>\n",
       "        <td>M</td>\n",
       "        <td>31.0</td>\n",
       "        <td>188.0</td>\n",
       "        <td>75.0</td>\n",
       "        <td>United States</td>\n",
       "        <td>USA</td>\n",
       "        <td>1992 Winter</td>\n",
       "        <td>1992</td>\n",
       "        <td>Winter</td>\n",
       "        <td>Albertville</td>\n",
       "        <td>Cross Country Skiing</td>\n",
       "        <td>Cross Country Skiing Men&#x27;s 50 kilometres</td>\n",
       "        <td>None</td>\n",
       "    </tr>\n",
       "    <tr>\n",
       "        <td>6</td>\n",
       "        <td>Per Knut Aaland</td>\n",
       "        <td>M</td>\n",
       "        <td>31.0</td>\n",
       "        <td>188.0</td>\n",
       "        <td>75.0</td>\n",
       "        <td>United States</td>\n",
       "        <td>USA</td>\n",
       "        <td>1992 Winter</td>\n",
       "        <td>1992</td>\n",
       "        <td>Winter</td>\n",
       "        <td>Albertville</td>\n",
       "        <td>Cross Country Skiing</td>\n",
       "        <td>Cross Country Skiing Men&#x27;s 10/15 kilometres Pursuit</td>\n",
       "        <td>None</td>\n",
       "    </tr>\n",
       "    <tr>\n",
       "        <td>6</td>\n",
       "        <td>Per Knut Aaland</td>\n",
       "        <td>M</td>\n",
       "        <td>31.0</td>\n",
       "        <td>188.0</td>\n",
       "        <td>75.0</td>\n",
       "        <td>United States</td>\n",
       "        <td>USA</td>\n",
       "        <td>1992 Winter</td>\n",
       "        <td>1992</td>\n",
       "        <td>Winter</td>\n",
       "        <td>Albertville</td>\n",
       "        <td>Cross Country Skiing</td>\n",
       "        <td>Cross Country Skiing Men&#x27;s 4 x 10 kilometres Relay</td>\n",
       "        <td>None</td>\n",
       "    </tr>\n",
       "    <tr>\n",
       "        <td>6</td>\n",
       "        <td>Per Knut Aaland</td>\n",
       "        <td>M</td>\n",
       "        <td>33.0</td>\n",
       "        <td>188.0</td>\n",
       "        <td>75.0</td>\n",
       "        <td>United States</td>\n",
       "        <td>USA</td>\n",
       "        <td>1994 Winter</td>\n",
       "        <td>1994</td>\n",
       "        <td>Winter</td>\n",
       "        <td>Lillehammer</td>\n",
       "        <td>Cross Country Skiing</td>\n",
       "        <td>Cross Country Skiing Men&#x27;s 10 kilometres</td>\n",
       "        <td>None</td>\n",
       "    </tr>\n",
       "</table>"
      ],
      "text/plain": [
       "[(1, 'A Dijiang', 'M', 24.0, 180.0, 80.0, 'China', 'CHN', '1992 Summer', 1992, 'Summer', 'Barcelona', 'Basketball', \"Basketball Men's Basketball\", None),\n",
       " (2, 'A Lamusi', 'M', 23.0, 170.0, 60.0, 'China', 'CHN', '2012 Summer', 2012, 'Summer', 'London', 'Judo', \"Judo Men's Extra-Lightweight\", None),\n",
       " (3, 'Gunnar Nielsen Aaby', 'M', 24.0, None, None, 'Denmark', 'DEN', '1920 Summer', 1920, 'Summer', 'Antwerpen', 'Football', \"Football Men's Football\", None),\n",
       " (4, 'Edgar Lindenau Aabye', 'M', 34.0, None, None, 'Denmark/Sweden', 'DEN', '1900 Summer', 1900, 'Summer', 'Paris', 'Tug-Of-War', \"Tug-Of-War Men's Tug-Of-War\", 'Gold'),\n",
       " (5, 'Christine Jacoba Aaftink', 'F', 21.0, 185.0, 82.0, 'Netherlands', 'NED', '1988 Winter', 1988, 'Winter', 'Calgary', 'Speed Skating', \"Speed Skating Women's 500 metres\", None),\n",
       " (5, 'Christine Jacoba Aaftink', 'F', 21.0, 185.0, 82.0, 'Netherlands', 'NED', '1988 Winter', 1988, 'Winter', 'Calgary', 'Speed Skating', \"Speed Skating Women's 1,000 metres\", None),\n",
       " (5, 'Christine Jacoba Aaftink', 'F', 25.0, 185.0, 82.0, 'Netherlands', 'NED', '1992 Winter', 1992, 'Winter', 'Albertville', 'Speed Skating', \"Speed Skating Women's 500 metres\", None),\n",
       " (5, 'Christine Jacoba Aaftink', 'F', 25.0, 185.0, 82.0, 'Netherlands', 'NED', '1992 Winter', 1992, 'Winter', 'Albertville', 'Speed Skating', \"Speed Skating Women's 1,000 metres\", None),\n",
       " (5, 'Christine Jacoba Aaftink', 'F', 27.0, 185.0, 82.0, 'Netherlands', 'NED', '1994 Winter', 1994, 'Winter', 'Lillehammer', 'Speed Skating', \"Speed Skating Women's 500 metres\", None),\n",
       " (5, 'Christine Jacoba Aaftink', 'F', 27.0, 185.0, 82.0, 'Netherlands', 'NED', '1994 Winter', 1994, 'Winter', 'Lillehammer', 'Speed Skating', \"Speed Skating Women's 1,000 metres\", None),\n",
       " (6, 'Per Knut Aaland', 'M', 31.0, 188.0, 75.0, 'United States', 'USA', '1992 Winter', 1992, 'Winter', 'Albertville', 'Cross Country Skiing', \"Cross Country Skiing Men's 10 kilometres\", None),\n",
       " (6, 'Per Knut Aaland', 'M', 31.0, 188.0, 75.0, 'United States', 'USA', '1992 Winter', 1992, 'Winter', 'Albertville', 'Cross Country Skiing', \"Cross Country Skiing Men's 50 kilometres\", None),\n",
       " (6, 'Per Knut Aaland', 'M', 31.0, 188.0, 75.0, 'United States', 'USA', '1992 Winter', 1992, 'Winter', 'Albertville', 'Cross Country Skiing', \"Cross Country Skiing Men's 10/15 kilometres Pursuit\", None),\n",
       " (6, 'Per Knut Aaland', 'M', 31.0, 188.0, 75.0, 'United States', 'USA', '1992 Winter', 1992, 'Winter', 'Albertville', 'Cross Country Skiing', \"Cross Country Skiing Men's 4 x 10 kilometres Relay\", None),\n",
       " (6, 'Per Knut Aaland', 'M', 33.0, 188.0, 75.0, 'United States', 'USA', '1994 Winter', 1994, 'Winter', 'Lillehammer', 'Cross Country Skiing', \"Cross Country Skiing Men's 10 kilometres\", None)]"
      ]
     },
     "execution_count": 112,
     "metadata": {},
     "output_type": "execute_result"
    }
   ],
   "source": [
    "#df = pd.read_sql_query(\"select * from Olympics LIMIT 15;\", conn)\n",
    "\n",
    "df = %sql select * from Olympics LIMIT 15;\n",
    "\n",
    "#print the dataframe\n",
    "df"
   ]
  },
  {
   "cell_type": "markdown",
   "id": "988466ba",
   "metadata": {},
   "source": [
    "# 2.0 Data Exploration and Visualization"
   ]
  },
  {
   "cell_type": "markdown",
   "id": "38fa4cfc",
   "metadata": {},
   "source": [
    "***Global Seaborn Settings***"
   ]
  },
  {
   "cell_type": "code",
   "execution_count": 113,
   "id": "bba4462f",
   "metadata": {},
   "outputs": [],
   "source": [
    "sns.set_style(\"darkgrid\")\n",
    "sns.set(rc = {'figure.figsize':(15,8)})"
   ]
  },
  {
   "cell_type": "markdown",
   "id": "b1a6677b",
   "metadata": {},
   "source": [
    "### Spliting Data into Summer and Winter Oylpmics\n",
    "\n",
    "#### The reason for this is most African Countries don't participate in Winter Olympics and don't even have winter"
   ]
  },
  {
   "cell_type": "code",
   "execution_count": 114,
   "id": "de22e225",
   "metadata": {},
   "outputs": [],
   "source": [
    "summer = olympics[olympics[\"Season\"]==\"Summer\"]\n",
    "winter = olympics[olympics[\"Season\"]==\"Winter\"]"
   ]
  },
  {
   "cell_type": "markdown",
   "id": "326b0939",
   "metadata": {},
   "source": [
    "***Function to show seaborn plot values***"
   ]
  },
  {
   "cell_type": "code",
   "execution_count": 115,
   "id": "5066bbbd",
   "metadata": {},
   "outputs": [],
   "source": [
    "def show_values(axs, orient=\"v\", space=.01):\n",
    "    \"\"\"Function to show plot values\"\"\"\n",
    "    def _single(ax):\n",
    "        if orient == \"v\":\n",
    "            for p in ax.patches:\n",
    "                _x = p.get_x() + p.get_width() / 2\n",
    "                _y = p.get_y() + p.get_height() + (p.get_height()*0.01)\n",
    "                #value = '{:.1f}'.format(p.get_height())\n",
    "                value = '{:,d}'.format(int(p.get_height()))\n",
    "                ax.text(_x, _y, value, ha=\"center\") \n",
    "        elif orient == \"h\":\n",
    "            for p in ax.patches:\n",
    "                _x = p.get_x() + p.get_width() + float(space)\n",
    "                _y = p.get_y() + p.get_height() - (p.get_height()*0.5)\n",
    "                #value = '{:.1f}'.format(p.get_width())\n",
    "                value = '{:,d}'.format(p.get_width())\n",
    "                ax.text(_x, _y, value, ha=\"left\")\n",
    "\n",
    "    if isinstance(axs, np.ndarray):\n",
    "        for idx, ax in np.ndenumerate(axs):\n",
    "            _single(ax)\n",
    "    else:\n",
    "        _single(axs)"
   ]
  },
  {
   "cell_type": "markdown",
   "id": "c3d979ed",
   "metadata": {},
   "source": [
    "***2. 1 Olympics Athlete Attendance by Year, All Olympics***"
   ]
  },
  {
   "cell_type": "code",
   "execution_count": 116,
   "id": "829a55f3",
   "metadata": {},
   "outputs": [
    {
     "data": {
      "image/png": "[encoded data removed]",
      "text/plain": [
       "<Figure size 1080x576 with 1 Axes>"
      ]
     },
     "metadata": {},
     "output_type": "display_data"
    }
   ],
   "source": [
    "ax=sns.countplot(x='Year', data=olympics, color='dodgerblue')\n",
    "ax.set_title('Olympics Athlete Attendance by Year for both Winter and Summer', fontsize = 20,weight='bold')\n",
    "ax.set_xlabel(\"Year of Olympics, Winter or Summer\",fontsize = 15, weight='bold')\n",
    "ax.set_ylabel('Number of Athletes',fontsize = 15,weight='bold' )\n",
    "ax.set_xticklabels(ax.get_xticklabels(),rotation = 90,weight='bold');\n",
    "\n",
    "ticks_loc = ax.get_yticks().tolist();\n",
    "ax.yaxis.set_major_locator(mticker.FixedLocator(ticks_loc));\n",
    "ax.set_yticklabels([\"{:,}\".format(int(x)) for x in ticks_loc],weight='bold');\n",
    "#show_values(ax)"
   ]
  },
  {
   "cell_type": "markdown",
   "id": "d42c28ad",
   "metadata": {},
   "source": [
    "***2.2 Olympics Athlete Attendance by Year by Winter/Summer***"
   ]
  },
  {
   "cell_type": "code",
   "execution_count": 117,
   "id": "5cfc0a8d",
   "metadata": {},
   "outputs": [
    {
     "data": {
      "image/png": "[encoded data removed]",
      "text/plain": [
       "<Figure size 1080x576 with 1 Axes>"
      ]
     },
     "metadata": {},
     "output_type": "display_data"
    }
   ],
   "source": [
    "ax=sns.countplot(x='Year', hue = 'Season', data=olympics, palette=['darkorange', 'royalblue'])\n",
    "ax.set_title('Olympics Athlete Attendance by Year by Winter/Summer', fontsize = 20,weight='bold')\n",
    "ax.set_xlabel(\"Year of Olympics\",fontsize = 15, weight='bold')\n",
    "ax.set_ylabel('Number of Athletes',fontsize = 15,weight='bold' )\n",
    "ax.set_xticklabels(ax.get_xticklabels(),rotation = 90,weight='bold');\n",
    "\n",
    "ticks_loc = ax.get_yticks().tolist();\n",
    "ax.yaxis.set_major_locator(mticker.FixedLocator(ticks_loc));\n",
    "ax.set_yticklabels([\"{:,}\".format(int(x)) for x in ticks_loc]);\n",
    "#show_values(ax)"
   ]
  },
  {
   "cell_type": "markdown",
   "id": "d072e737",
   "metadata": {},
   "source": [
    "***2.3 All Olympics Athlete Attendance by Year, Gender***"
   ]
  },
  {
   "cell_type": "code",
   "execution_count": 118,
   "id": "07219b4c",
   "metadata": {},
   "outputs": [
    {
     "data": {
      "image/png": "[encoded data removed]",
      "text/plain": [
       "<Figure size 1080x576 with 1 Axes>"
      ]
     },
     "metadata": {},
     "output_type": "display_data"
    }
   ],
   "source": [
    "ax=sns.countplot(x='Year', hue = 'Sex', data=olympics, palette=['dodgerblue', 'forestgreen'])\n",
    "ax.set_title('All Olympics Athlete Attendance by Year by Gender', fontsize = 20,weight='bold')\n",
    "ax.set_xlabel(\"Year of Olympics\",fontsize = 15, weight='bold')\n",
    "ax.set_ylabel('Number of Athletes',fontsize = 15,weight='bold' )\n",
    "ax.set_xticklabels(ax.get_xticklabels(),rotation = 90,weight='bold');\n",
    "\n",
    "ticks_loc = ax.get_yticks().tolist();\n",
    "ax.yaxis.set_major_locator(mticker.FixedLocator(ticks_loc));\n",
    "ax.set_yticklabels([\"{:,}\".format(int(x)) for x in ticks_loc],weight='bold');\n",
    "#show_values(ax)"
   ]
  },
  {
   "cell_type": "markdown",
   "id": "a1ee00b3",
   "metadata": {},
   "source": [
    "***2.4 Summer Olympics Athlete Attendance by Year, Gender***"
   ]
  },
  {
   "cell_type": "code",
   "execution_count": 119,
   "id": "07f868c6",
   "metadata": {},
   "outputs": [
    {
     "data": {
      "image/png": "[encoded data removed]",
      "text/plain": [
       "<Figure size 1080x576 with 1 Axes>"
      ]
     },
     "metadata": {},
     "output_type": "display_data"
    }
   ],
   "source": [
    "ax=sns.countplot(x='Year', hue = 'Sex', data=summer, palette=['dodgerblue', 'forestgreen'])\n",
    "ax.set_title('Summer Olympics Athlete Attendance by Year by Gender', fontsize = 20,weight='bold')\n",
    "ax.set_xlabel(\"Year of Summer Olympics\",fontsize = 15, weight='bold')\n",
    "ax.set_ylabel('Number of Athletes',fontsize = 15,weight='bold' )\n",
    "ax.set_xticklabels(ax.get_xticklabels(),rotation = 90,weight='bold');\n",
    "\n",
    "ticks_loc = ax.get_yticks().tolist();\n",
    "ax.yaxis.set_major_locator(mticker.FixedLocator(ticks_loc));\n",
    "ax.set_yticklabels([\"{:,}\".format(int(x)) for x in ticks_loc],weight='bold');\n",
    "#show_values(ax)"
   ]
  },
  {
   "cell_type": "markdown",
   "id": "9bdc5621",
   "metadata": {},
   "source": [
    "***2.5 Winter Olympics Athlete Attendance by Year, Gender***"
   ]
  },
  {
   "cell_type": "code",
   "execution_count": 120,
   "id": "99e3eac4",
   "metadata": {},
   "outputs": [
    {
     "data": {
      "image/png": "[encoded data removed]",
      "text/plain": [
       "<Figure size 1080x576 with 1 Axes>"
      ]
     },
     "metadata": {},
     "output_type": "display_data"
    }
   ],
   "source": [
    "ax=sns.countplot(x='Year', hue = 'Sex', data=winter, palette=['forestgreen', 'dodgerblue'])\n",
    "ax.set_title('Winter Olympics Athlete Attendance by Year by Gender', fontsize = 20,weight='bold')\n",
    "ax.set_xlabel(\"Year of Winter Olympics\",fontsize = 15, weight='bold')\n",
    "ax.set_ylabel('Number of Athletes',fontsize = 15,weight='bold' )\n",
    "ax.set_xticklabels(ax.get_xticklabels(),rotation = 90,weight='bold');\n",
    "\n",
    "ticks_loc = ax.get_yticks().tolist();\n",
    "ax.yaxis.set_major_locator(mticker.FixedLocator(ticks_loc));\n",
    "ax.set_yticklabels([\"{:,}\".format(int(x)) for x in ticks_loc],weight='bold');\n",
    "#show_values(ax)"
   ]
  },
  {
   "cell_type": "markdown",
   "id": "9264c90b",
   "metadata": {},
   "source": [
    "***2.6 All Summer Olympics Sports by Gender***"
   ]
  },
  {
   "cell_type": "code",
   "execution_count": 121,
   "id": "9604b3b0",
   "metadata": {},
   "outputs": [
    {
     "data": {
      "image/png": "[encoded data removed]",
      "text/plain": [
       "<Figure size 1080x576 with 1 Axes>"
      ]
     },
     "metadata": {},
     "output_type": "display_data"
    }
   ],
   "source": [
    "ax=sns.countplot(x='Sport',hue = 'Sex', data=summer, palette=['dodgerblue', 'forestgreen'],order=summer['Sport'].value_counts().index)\n",
    "ax.set_title('All Sports Summer Olympics by Gender', fontsize = 20,weight='bold')\n",
    "ax.set_xlabel(\"Summer Sport\",fontsize = 15, weight='bold')\n",
    "ax.set_ylabel('Number of Athletes',fontsize = 15,weight='bold' )\n",
    "ax.set_xticklabels(ax.get_xticklabels(),rotation = 90,weight='bold');\n",
    "\n",
    "ticks_loc = ax.get_yticks().tolist();\n",
    "ax.yaxis.set_major_locator(mticker.FixedLocator(ticks_loc));\n",
    "ax.set_yticklabels([\"{:,}\".format(int(x)) for x in ticks_loc],weight='bold');\n",
    "#show_values(ax)"
   ]
  },
  {
   "cell_type": "code",
   "execution_count": 122,
   "id": "2312c840",
   "metadata": {},
   "outputs": [],
   "source": [
    "sports = summer['Sport'].value_counts()"
   ]
  },
  {
   "cell_type": "code",
   "execution_count": 123,
   "id": "a4a8da86",
   "metadata": {},
   "outputs": [],
   "source": [
    "sports_3k=sports[sports > 3000]\n",
    "sports_3k_less=sports[sports <= 3000]"
   ]
  },
  {
   "cell_type": "markdown",
   "id": "2ad4f4fe",
   "metadata": {},
   "source": [
    "***2.7 Major Sport Summer Olympics by Gender, with at least 3,000 Athletes all time***"
   ]
  },
  {
   "cell_type": "code",
   "execution_count": 124,
   "id": "8105344b",
   "metadata": {},
   "outputs": [
    {
     "data": {
      "image/png": "[encoded data removed]",
      "text/plain": [
       "<Figure size 1080x576 with 1 Axes>"
      ]
     },
     "metadata": {},
     "output_type": "display_data"
    }
   ],
   "source": [
    "ax=sns.countplot(x='Sport',hue = 'Sex', data=summer[summer['Sport'].isin(sports_3k.index)], palette=['dodgerblue', 'forestgreen'], order=sports_3k.index)\n",
    "ax.set_title('Major Sport Summer Olympics by Gender, with at least 3,000 Athletes all time', fontsize = 20,weight='bold')\n",
    "ax.set_xlabel(\"Summer Sport\",fontsize = 15, weight='bold')\n",
    "ax.set_ylabel('Number of Athletes',fontsize = 15,weight='bold' )\n",
    "ax.set_xticklabels(ax.get_xticklabels(),rotation = 90,weight='bold');\n",
    "\n",
    "ticks_loc = ax.get_yticks().tolist();\n",
    "ax.yaxis.set_major_locator(mticker.FixedLocator(ticks_loc));\n",
    "ax.set_yticklabels([\"{:,}\".format(int(x)) for x in ticks_loc],weight='bold');\n",
    "#show_values(ax)"
   ]
  },
  {
   "cell_type": "markdown",
   "id": "3db74563",
   "metadata": {},
   "source": [
    "***2.8 Minor Sport Summer Olympics by Gender, with less than 3,000 Athletes all time***"
   ]
  },
  {
   "cell_type": "code",
   "execution_count": 125,
   "id": "1a6597cf",
   "metadata": {},
   "outputs": [
    {
     "data": {
      "image/png": "[encoded data removed]",
      "text/plain": [
       "<Figure size 1080x576 with 1 Axes>"
      ]
     },
     "metadata": {},
     "output_type": "display_data"
    }
   ],
   "source": [
    "ax=sns.countplot(x='Sport',hue = 'Sex', data=summer[summer['Sport'].isin(sports_3k_less.index)], palette=['dodgerblue', 'forestgreen'], order=sports_3k_less.index)\n",
    "ax.set_title('Minor Sport Summer Olympics by Gender, with less than 3,000 Athletes all time', fontsize = 20,weight='bold')\n",
    "ax.set_xlabel(\"Minor Summer Sport\",fontsize = 15, weight='bold')\n",
    "ax.set_ylabel('Number of Athletes',fontsize = 15,weight='bold' )\n",
    "ax.set_xticklabels(ax.get_xticklabels(),rotation = 90,weight='bold');\n",
    "\n",
    "ticks_loc = ax.get_yticks().tolist();\n",
    "ax.yaxis.set_major_locator(mticker.FixedLocator(ticks_loc));\n",
    "ax.set_yticklabels([\"{:,}\".format(int(x)) for x in ticks_loc],weight='bold');\n",
    "#show_values(ax)"
   ]
  },
  {
   "cell_type": "markdown",
   "id": "1985f2ea",
   "metadata": {},
   "source": [
    "***2.9 All Winter Olympics Sports by Gender***"
   ]
  },
  {
   "cell_type": "code",
   "execution_count": 126,
   "id": "672214e8",
   "metadata": {},
   "outputs": [
    {
     "data": {
      "image/png": "[encoded data removed]",
      "text/plain": [
       "<Figure size 1080x576 with 1 Axes>"
      ]
     },
     "metadata": {},
     "output_type": "display_data"
    }
   ],
   "source": [
    "ax=sns.countplot(x='Sport',hue = 'Sex', data=winter, palette=['forestgreen', 'dodgerblue'],order=winter['Sport'].value_counts().index)\n",
    "ax.set_title('All Winter Summer Olympics by Gender', fontsize = 20,weight='bold')\n",
    "ax.set_xlabel(\"Winter Sport\",fontsize = 15, weight='bold')\n",
    "ax.set_ylabel('Number of Athletes',fontsize = 15,weight='bold' )\n",
    "ax.set_xticklabels(ax.get_xticklabels(),rotation = 90,weight='bold');\n",
    "\n",
    "ticks_loc = ax.get_yticks().tolist();\n",
    "ax.yaxis.set_major_locator(mticker.FixedLocator(ticks_loc));\n",
    "ax.set_yticklabels([\"{:,}\".format(int(x)) for x in ticks_loc],weight='bold');\n",
    "#show_values(ax)"
   ]
  },
  {
   "cell_type": "code",
   "execution_count": 127,
   "id": "eef93b3c",
   "metadata": {},
   "outputs": [
    {
     "data": {
      "text/plain": [
       "City\n",
       "Albertville               1\n",
       "Amsterdam                 1\n",
       "Antwerpen                 1\n",
       "Athina                    3\n",
       "Atlanta                   1\n",
       "Barcelona                 1\n",
       "Beijing                   1\n",
       "Berlin                    1\n",
       "Calgary                   1\n",
       "Chamonix                  1\n",
       "Cortina d'Ampezzo         1\n",
       "Garmisch-Partenkirchen    1\n",
       "Grenoble                  1\n",
       "Helsinki                  1\n",
       "Innsbruck                 2\n",
       "Lake Placid               2\n",
       "Lillehammer               1\n",
       "London                    3\n",
       "Los Angeles               2\n",
       "Melbourne                 1\n",
       "Mexico City               1\n",
       "Montreal                  1\n",
       "Moskva                    1\n",
       "Munich                    1\n",
       "Nagano                    1\n",
       "Oslo                      1\n",
       "Paris                     2\n",
       "Rio de Janeiro            1\n",
       "Roma                      1\n",
       "Salt Lake City            1\n",
       "Sankt Moritz              2\n",
       "Sapporo                   1\n",
       "Sarajevo                  1\n",
       "Seoul                     1\n",
       "Sochi                     1\n",
       "Squaw Valley              1\n",
       "St. Louis                 1\n",
       "Stockholm                 2\n",
       "Sydney                    1\n",
       "Tokyo                     1\n",
       "Torino                    1\n",
       "Vancouver                 1\n",
       "dtype: int64"
      ]
     },
     "execution_count": 127,
     "metadata": {},
     "output_type": "execute_result"
    }
   ],
   "source": [
    "(pd.crosstab(olympics['Year'], olympics['City'])>0).astype(int).sum()"
   ]
  },
  {
   "cell_type": "code",
   "execution_count": 128,
   "id": "54c4a1ea",
   "metadata": {},
   "outputs": [
    {
     "data": {
      "text/plain": [
       "USA            18853\n",
       "Germany        15883\n",
       "France         12758\n",
       "UK             12256\n",
       "Russia         11692\n",
       "               ...  \n",
       "Timor-Leste        9\n",
       "Kosovo             8\n",
       "Tuvalu             7\n",
       "South Sudan        3\n",
       "Unknown            2\n",
       "Name: Country, Length: 209, dtype: int64"
      ]
     },
     "execution_count": 128,
     "metadata": {},
     "output_type": "execute_result"
    }
   ],
   "source": [
    "olympics = ol\n",
    "olympics['Country'].value_counts()"
   ]
  },
  {
   "cell_type": "markdown",
   "id": "4c575d36",
   "metadata": {},
   "source": [
    "### 1.3.6 Adding New Variables"
   ]
  },
  {
   "cell_type": "markdown",
   "id": "5e3e3a67",
   "metadata": {},
   "source": [
    "***Will add EventScore, Gold ->10, Silver ->7, Bronze->5, or NA->1 for qualifying.<br>***\n",
    "***Will add medal binary, Gold ->1, Silver ->1, Bronze->1, or NA-0 <br>***\n",
    "***Rename region to Country***"
   ]
  },
  {
   "cell_type": "code",
   "execution_count": 129,
   "id": "728d512e",
   "metadata": {},
   "outputs": [],
   "source": [
    "#Gold 10 points\n",
    "olympics.loc[olympics['Medal']=='Gold', 'EventScore'] = 10\n",
    "#Silver 7 points\n",
    "olympics.loc[olympics['Medal']=='Silver', 'EventScore'] = 7.5\n",
    "#Bronze 4 points\n",
    "olympics.loc[olympics['Medal']=='Bronze', 'EventScore'] = 5\n",
    "#Qualification and attendance 1 points\n",
    "olympics.loc[olympics['Medal'].isnull(), 'EventScore'] = 1\n",
    "#olympics[\"region\"]=np.where(olympics[\"region\"].isnull(), olympics[\"notes\"],olympics[\"region\"])"
   ]
  },
  {
   "cell_type": "code",
   "execution_count": 130,
   "id": "560ab0c9",
   "metadata": {},
   "outputs": [
    {
     "data": {
      "text/plain": [
       "Gold      13372\n",
       "Bronze    13295\n",
       "Silver    13116\n",
       "Name: Medal, dtype: int64"
      ]
     },
     "execution_count": 130,
     "metadata": {},
     "output_type": "execute_result"
    }
   ],
   "source": [
    "olympics['Medal'].value_counts()"
   ]
  },
  {
   "cell_type": "code",
   "execution_count": 131,
   "id": "4a5912dd",
   "metadata": {},
   "outputs": [
    {
     "data": {
      "text/plain": [
       "1.0     231354\n",
       "10.0     13372\n",
       "5.0      13295\n",
       "7.5      13116\n",
       "Name: EventScore, dtype: int64"
      ]
     },
     "execution_count": 131,
     "metadata": {},
     "output_type": "execute_result"
    }
   ],
   "source": [
    "olympics['EventScore'].value_counts()"
   ]
  },
  {
   "cell_type": "code",
   "execution_count": 132,
   "id": "ff0cd74b",
   "metadata": {},
   "outputs": [
    {
     "data": {
      "text/plain": [
       "Index(['ID', 'Name', 'Sex', 'Age', 'Height', 'Weight', 'Team', 'NOC', 'Games',\n",
       "       'Year', 'Season', 'City', 'Sport', 'Event', 'Medal', 'NOC', 'Country',\n",
       "       'notes', 'EventScore'],\n",
       "      dtype='object')"
      ]
     },
     "execution_count": 132,
     "metadata": {},
     "output_type": "execute_result"
    }
   ],
   "source": [
    "olympics.columns"
   ]
  },
  {
   "cell_type": "code",
   "execution_count": 133,
   "id": "6a08ecb7",
   "metadata": {},
   "outputs": [],
   "source": [
    "olympics.rename(columns = {'region':'Country'}, inplace = True)"
   ]
  },
  {
   "cell_type": "code",
   "execution_count": 134,
   "id": "5d2acc34",
   "metadata": {},
   "outputs": [
    {
     "data": {
      "text/plain": [
       "Index(['ID', 'Name', 'Sex', 'Age', 'Height', 'Weight', 'Team', 'NOC', 'Games',\n",
       "       'Year', 'Season', 'City', 'Sport', 'Event', 'Medal', 'NOC', 'Country',\n",
       "       'notes', 'EventScore'],\n",
       "      dtype='object')"
      ]
     },
     "execution_count": 134,
     "metadata": {},
     "output_type": "execute_result"
    }
   ],
   "source": [
    "olympics.columns"
   ]
  },
  {
   "cell_type": "code",
   "execution_count": 135,
   "id": "c6d87738",
   "metadata": {},
   "outputs": [
    {
     "name": "stdout",
     "output_type": "stream",
     "text": [
      "SQLite Database Connection Closed Sucessfully\n"
     ]
    }
   ],
   "source": [
    "# Close the connection to the SQLite Database\n",
    "conn.close()\n",
    "print(\"SQLite Database Connection Closed Sucessfully\")"
   ]
  },
  {
   "cell_type": "code",
   "execution_count": 136,
   "id": "56f3dd49",
   "metadata": {},
   "outputs": [
    {
     "name": "stdout",
     "output_type": "stream",
     "text": [
      "\u001b[32m\u001b[1m \n",
      " 0:00:28.108735 Time running\n",
      "\n"
     ]
    }
   ],
   "source": [
    "print(style.GREEN + style.BOLD,\"\\n\",datetime.datetime.now() - startTime, \"Time running\\n\")"
   ]
  }
 ],
 "metadata": {
  "kernelspec": {
   "display_name": "Python 3 (ipykernel)",
   "language": "python",
   "name": "python3"
  },
  "language_info": {
   "codemirror_mode": {
    "name": "ipython",
    "version": 3
   },
   "file_extension": ".py",
   "mimetype": "text/x-python",
   "name": "python",
   "nbconvert_exporter": "python",
   "pygments_lexer": "ipython3",
   "version": "3.9.7"
  }
 },
 "nbformat": 4,
 "nbformat_minor": 5
}
